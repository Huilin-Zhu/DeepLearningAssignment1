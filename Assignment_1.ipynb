{
  "nbformat": 4,
  "nbformat_minor": 0,
  "metadata": {
    "colab": {
      "name": "Assignment 1 (TF 2).ipynb",
      "provenance": [],
      "collapsed_sections": [],
      "machine_shape": "hm"
    },
    "kernelspec": {
      "display_name": "Python 3",
      "language": "python",
      "name": "python3"
    },
    "language_info": {
      "codemirror_mode": {
        "name": "ipython",
        "version": 3
      },
      "file_extension": ".py",
      "mimetype": "text/x-python",
      "name": "python",
      "nbconvert_exporter": "python",
      "pygments_lexer": "ipython3",
      "version": "3.7.4"
    }
  },
  "cells": [
    {
      "cell_type": "markdown",
      "metadata": {
        "id": "7uut_aem5B5q",
        "colab_type": "text"
      },
      "source": [
        "[![Open In Colab](https://colab.research.google.com/assets/colab-badge.svg)](https://colab.research.google.com/github/satyaki-mallick/DeepLearningAssignment1/blob/master/Assignment_1.ipynb#scrollTo=7uut_aem5B5q)"
      ]
    },
    {
      "cell_type": "markdown",
      "metadata": {
        "colab_type": "text",
        "id": "7ORVPadj7rKq"
      },
      "source": [
        "# Assignment 1\n",
        "\n",
        "<b>Group [fill in group number]</b>\n",
        "* <b> Student 1 </b> : SATYAKI MALLICK + 1410881\n",
        "* <b> Student 2 </b> : HUILIN + Huilin_student_no\n",
        "\n",
        "**Reading material**\n",
        "* [1] Mikolov, Tomas, et al. \"[Efficient Estimation of Word Representations in Vector Space](https://arxiv.org/abs/1301.3781)\" Advances in neural information processing systems. 2013. \n",
        "\n",
        "<b><font color='red'>NOTE</font></b> When submitting your notebook, please make sure that the training history of your model is visible in the output. This means that you should **NOT** clean your output cells of the notebook. Make sure that your notebook runs without errors in linear order.\n",
        "\n"
      ]
    },
    {
      "cell_type": "markdown",
      "metadata": {
        "colab_type": "text",
        "id": "6rQwLyiMFu_1"
      },
      "source": [
        "# Question 1 - Keras implementation (10 pt)\n",
        "\n",
        "### Word embeddings\n",
        "Build word embeddings with a Keras implementation where the embedding vector is of length 50, 150 and 300. Use the Alice in Wonderland text book for training. Use a window size of 2 to train the embeddings (`window_size` in the jupyter notebook). \n",
        "\n",
        "1. Build word embeddings of length 50, 150 and 300 using the Skipgram model\n",
        "2. Build word embeddings of length 50, 150 and 300 using CBOW model\n",
        "3. Analyze the different word embeddings:\n",
        "    - Implement your own function to perform the analogy task (see [1] for concrete examples). Use the same distance metric as in the paper. Do not use existing libraries for this task such as Gensim. \n",
        "Your function should be able to answer whether an analogy like: \"a king is to a queen as a man is to a woman\" ($e_{king} - e_{queen} + e_{woman} \\approx e_{man}$) is true. $e_{x}$ denotes the embedding of word $x$. We want to find the word $p$ in the vocabulary, where the embedding of $p$ ($e_p$) is the closest to the predicted embedding (i.e. result of the formula). Then, we can check if $p$ is the same word as the true word $t$.\n",
        "    - Give at least 5 different  examples of analogies.\n",
        "    - Compare the performance on the analogy tasks between the word embeddings and briefly discuss your results.\n",
        "\n",
        "4. Discuss:\n",
        "  - Given the same number of sentences as input, CBOW and Skipgram arrange the data into different number of training samples. Which one has more and why?\n",
        "\n",
        "\n",
        "<b>HINT</b> See practical 3.1 for some helpful code to start this assignment.\n"
      ]
    },
    {
      "cell_type": "markdown",
      "metadata": {
        "colab_type": "text",
        "id": "ctoyAoX1AI6T"
      },
      "source": [
        "### Import libraries"
      ]
    },
    {
      "cell_type": "code",
      "metadata": {
        "colab_type": "code",
        "id": "x5VOelR7BYQ1",
        "colab": {}
      },
      "source": [
        "%tensorflow_version 2.x"
      ],
      "execution_count": 0,
      "outputs": []
    },
    {
      "cell_type": "code",
      "metadata": {
        "colab_type": "code",
        "id": "vCnATRPgBZEd",
        "outputId": "73e972b3-d257-44cc-e792-bc089c0f58f9",
        "colab": {
          "base_uri": "https://localhost:8080/",
          "height": 34
        }
      },
      "source": [
        "import numpy as np\n",
        "import keras.backend as K\n",
        "import tensorflow as tf\n",
        "from tensorflow import keras\n",
        "\n",
        "from tensorflow.keras.models import Sequential\n",
        "from tensorflow.keras.layers import Dense, Embedding, Reshape, Lambda\n",
        "from tensorflow.keras.utils import to_categorical\n",
        "from tensorflow.keras.preprocessing.text import Tokenizer\n",
        "from tensorflow.keras.utils import plot_model\n",
        "from tensorflow.keras.preprocessing import sequence\n",
        "\n",
        "# other helpful libraries\n",
        "from sklearn.manifold import TSNE\n",
        "from sklearn.metrics.pairwise import cosine_similarity\n",
        "from sklearn.neighbors import NearestNeighbors as nn\n",
        "from matplotlib import pylab\n",
        "import pandas as pd\n",
        "import pickle"
      ],
      "execution_count": 0,
      "outputs": [
        {
          "output_type": "stream",
          "text": [
            "Using TensorFlow backend.\n"
          ],
          "name": "stderr"
        }
      ]
    },
    {
      "cell_type": "code",
      "metadata": {
        "colab_type": "code",
        "id": "qBNCPtOoBbB1",
        "outputId": "7b7ca8ef-dfe1-4d8a-9153-608c383105da",
        "colab": {
          "base_uri": "https://localhost:8080/",
          "height": 34
        }
      },
      "source": [
        "print(tf.__version__) #  check what version of TF is imported"
      ],
      "execution_count": 0,
      "outputs": [
        {
          "output_type": "stream",
          "text": [
            "2.2.0\n"
          ],
          "name": "stdout"
        }
      ]
    },
    {
      "cell_type": "markdown",
      "metadata": {
        "colab_type": "text",
        "id": "WCd0zUO1AKjY"
      },
      "source": [
        "### Import file\n",
        "\n",
        "If you use Google Colab, you need to mount your Google Drive to the notebook when you want to use files that are located in your Google Drive. Paste the authorization code, from the new tab page that opens automatically when running the cell, in the cell below."
      ]
    },
    {
      "cell_type": "code",
      "metadata": {
        "colab_type": "code",
        "id": "DdjNeehKBd-a",
        "outputId": "a452b657-282f-460d-8fed-4239ceaf4889",
        "colab": {
          "base_uri": "https://localhost:8080/",
          "height": 122
        }
      },
      "source": [
        "from google.colab import drive\n",
        "drive.mount('/content/drive')"
      ],
      "execution_count": 0,
      "outputs": [
        {
          "output_type": "stream",
          "text": [
            "Go to this URL in a browser: https://accounts.google.com/o/oauth2/auth?client_id=947318989803-6bn6qk8qdgf4n4g3pfee6491hc0brc4i.apps.googleusercontent.com&redirect_uri=urn%3aietf%3awg%3aoauth%3a2.0%3aoob&response_type=code&scope=email%20https%3a%2f%2fwww.googleapis.com%2fauth%2fdocs.test%20https%3a%2f%2fwww.googleapis.com%2fauth%2fdrive%20https%3a%2f%2fwww.googleapis.com%2fauth%2fdrive.photos.readonly%20https%3a%2f%2fwww.googleapis.com%2fauth%2fpeopleapi.readonly\n",
            "\n",
            "Enter your authorization code:\n",
            "··········\n",
            "Mounted at /content/drive\n"
          ],
          "name": "stdout"
        }
      ]
    },
    {
      "cell_type": "markdown",
      "metadata": {
        "colab_type": "text",
        "id": "UjIVBt8YGUaO"
      },
      "source": [
        "Navigate to the folder in which `alice.txt` is located. Make sure to start path with '/content/drive/My Drive/' if you want to load the file from your Google Drive."
      ]
    },
    {
      "cell_type": "code",
      "metadata": {
        "colab_type": "code",
        "id": "iS0-uINUBfic",
        "outputId": "46014eae-b6e5-40ef-d792-e2727aeda61b",
        "colab": {
          "base_uri": "https://localhost:8080/",
          "height": 34
        }
      },
      "source": [
        "cd '/content/drive/My Drive/Colab Notebooks/'"
      ],
      "execution_count": 0,
      "outputs": [
        {
          "output_type": "stream",
          "text": [
            "/content/drive/My Drive/Colab Notebooks\n"
          ],
          "name": "stdout"
        }
      ]
    },
    {
      "cell_type": "code",
      "metadata": {
        "colab_type": "code",
        "id": "Gz8Z5gCDBhSl",
        "colab": {}
      },
      "source": [
        "file_name = 'alice.txt'\n",
        "corpus = open(file_name).readlines()"
      ],
      "execution_count": 0,
      "outputs": []
    },
    {
      "cell_type": "markdown",
      "metadata": {
        "colab_type": "text",
        "id": "zkbk32wHANnD"
      },
      "source": [
        "### Data preprocessing\n",
        "\n",
        "See Practical 3.1 for an explanation of the preprocessing steps done below."
      ]
    },
    {
      "cell_type": "code",
      "metadata": {
        "colab_type": "code",
        "id": "37PyOHq2BkY4",
        "colab": {}
      },
      "source": [
        "# Removes sentences with fewer than 3 words\n",
        "corpus = [sentence for sentence in corpus if sentence.count(\" \") >= 2]\n",
        "\n",
        "# remove punctuation in text and fit tokenizer on entire corpus\n",
        "tokenizer = Tokenizer(filters='!\"#$%&()*+,-./:;<=>?@[\\\\]^_`{|}~\\t\\n'+\"'\")\n",
        "tokenizer.fit_on_texts(corpus)\n",
        "\n",
        "# convert text to sequence of integer values\n",
        "corpus = tokenizer.texts_to_sequences(corpus)\n",
        "n_samples = sum(len(s) for s in corpus) # total number of words in the corpus\n",
        "V = len(tokenizer.word_index) + 1 # total number of unique words in the corpus"
      ],
      "execution_count": 0,
      "outputs": []
    },
    {
      "cell_type": "code",
      "metadata": {
        "colab_type": "code",
        "id": "ILdA_IimBlte",
        "outputId": "6e05e904-ffcd-43bd-c430-a6e44f3e1f99",
        "colab": {
          "base_uri": "https://localhost:8080/",
          "height": 34
        }
      },
      "source": [
        "n_samples, V"
      ],
      "execution_count": 0,
      "outputs": [
        {
          "output_type": "execute_result",
          "data": {
            "text/plain": [
              "(27165, 2557)"
            ]
          },
          "metadata": {
            "tags": []
          },
          "execution_count": 9
        }
      ]
    },
    {
      "cell_type": "code",
      "metadata": {
        "colab_type": "code",
        "id": "fRbpue0WBms6",
        "outputId": "2ad3d351-629c-424b-bac6-26d213874e01",
        "colab": {
          "base_uri": "https://localhost:8080/",
          "height": 34
        }
      },
      "source": [
        "# example of how word to integer mapping looks like in the tokenizer\n",
        "print(list((tokenizer.word_index.items()))[:5])"
      ],
      "execution_count": 0,
      "outputs": [
        {
          "output_type": "stream",
          "text": [
            "[('the', 1), ('and', 2), ('to', 3), ('a', 4), ('it', 5)]\n"
          ],
          "name": "stdout"
        }
      ]
    },
    {
      "cell_type": "code",
      "metadata": {
        "colab_type": "code",
        "id": "Er86VxH9BqI9",
        "colab": {}
      },
      "source": [
        "# parameters\n",
        "window_size = 2\n",
        "window_size_corpus = 4"
      ],
      "execution_count": 0,
      "outputs": []
    },
    {
      "cell_type": "code",
      "metadata": {
        "id": "qc_S3hY2EamG",
        "colab_type": "code",
        "colab": {}
      },
      "source": [
        "def save_embeddings(model, model_name):\n",
        "  weights = model.get_weights()\n",
        "  embedding = weights[0]\n",
        "\n",
        "  path= './embedding_{}.pth'.format(model_name)\n",
        "  pickle.dump(embedding, open(path,'wb'))\n",
        "\n",
        "  f = open(model_name + '.txt', 'w')\n",
        "  f.write(\" \".join([str(V-1), str(dim)]))\n",
        "  f.write(\"\\n\")\n",
        "\n",
        "  for word,i in tokenizer.word_index.items():\n",
        "    f.write(word)\n",
        "    f.write(\" \")\n",
        "    f.write(\" \".join(map(str, list(embedding[i,:]))))\n",
        "    f.write(\"\\n\")\n",
        "  f.close()"
      ],
      "execution_count": 0,
      "outputs": []
    },
    {
      "cell_type": "code",
      "metadata": {
        "id": "rHZszMCbR0f8",
        "colab_type": "code",
        "colab": {}
      },
      "source": [
        "# To load the pickled embedding\n",
        "def unpickle(model_name):\n",
        "  path = './embedding_{}.pth'.format(model_name)\n",
        "  unpickled_embedding = pickle.load(open(path,'rb'))\n",
        "  open(path,'rb').close()\n",
        "  return unpicked_embedding"
      ],
      "execution_count": 0,
      "outputs": []
    },
    {
      "cell_type": "markdown",
      "metadata": {
        "colab_type": "text",
        "id": "M0sU1JORATvX"
      },
      "source": [
        "## Task 1.1 - Skipgram\n",
        "Build word embeddings of length 50, 150 and 300 using the Skipgram model."
      ]
    },
    {
      "cell_type": "code",
      "metadata": {
        "colab_type": "code",
        "id": "Udp1xKcDBu0v",
        "colab": {}
      },
      "source": [
        "#prepare data for skipgram\n",
        "def generate_data_skipgram(corpus, window_size, V):\n",
        "    # TODO Implement here\n",
        "    # HINT: see Practical 3.1\n",
        "    maxlen = window_size*2\n",
        "    all_in = []\n",
        "    all_out = []\n",
        "    for words in corpus:\n",
        "        L = len(words)\n",
        "        for index, word in enumerate(words):\n",
        "            p = index - window_size\n",
        "            n = index + window_size + 1\n",
        "                    \n",
        "            in_words = []\n",
        "            labels = []\n",
        "            for i in range(p, n):\n",
        "                if i != index and 0 <= i < L:\n",
        "                    # Add the input word\n",
        "                    #in_words.append(word)\n",
        "                    all_in.append(word)\n",
        "                    # Add one-hot of the context words\n",
        "                    all_out.append(to_categorical(words[i], V))\n",
        "                                      \n",
        "    return (np.array(all_in),np.array(all_out))"
      ],
      "execution_count": 0,
      "outputs": []
    },
    {
      "cell_type": "code",
      "metadata": {
        "colab_type": "code",
        "id": "qXBGNrKTB0tO",
        "colab": {}
      },
      "source": [
        "# create training data\n",
        "x_skipgram , y_skipgram = generate_data_skipgram(corpus,window_size,V)"
      ],
      "execution_count": 0,
      "outputs": []
    },
    {
      "cell_type": "code",
      "metadata": {
        "id": "My8ZZJNbsCCs",
        "colab_type": "code",
        "colab": {}
      },
      "source": [
        "# x each word represented as a number and then a window created"
      ],
      "execution_count": 0,
      "outputs": []
    },
    {
      "cell_type": "code",
      "metadata": {
        "id": "ifUAcKq1smqj",
        "colab_type": "code",
        "colab": {}
      },
      "source": [
        "# Sample of y:\n",
        "# rows represent each word.\n",
        "# columns represent total unique words\n",
        "# sample array for y for input [1, 0, 3, 4, 5, 0, 2, 1]\n",
        "# array([[ 0.,  1.,  0.,  0.,  0.,  0.],\n",
        "#        [ 1.,  0.,  0.,  0.,  0.,  0.],\n",
        "#        [ 0.,  0.,  0.,  1.,  0.,  0.],\n",
        "#        [ 0.,  0.,  0.,  0.,  1.,  0.],\n",
        "#        [ 0.,  0.,  0.,  0.,  0.,  1.],\n",
        "#        [ 1.,  0.,  0.,  0.,  0.,  0.],\n",
        "#        [ 0.,  0.,  1.,  0.,  0.,  0.],\n",
        "#        [ 0.,  1.,  0.,  0.,  0.,  0.]])"
      ],
      "execution_count": 0,
      "outputs": []
    },
    {
      "cell_type": "code",
      "metadata": {
        "id": "VhOEHUygm7y3",
        "colab_type": "code",
        "outputId": "b82019d9-2543-48f0-dda1-f1c884097258",
        "colab": {
          "base_uri": "https://localhost:8080/",
          "height": 34
        }
      },
      "source": [
        "x_skipgram.shape, y_skipgram.shape"
      ],
      "execution_count": 0,
      "outputs": [
        {
          "output_type": "execute_result",
          "data": {
            "text/plain": [
              "((94556,), (94556, 2557))"
            ]
          },
          "metadata": {
            "tags": []
          },
          "execution_count": 53
        }
      ]
    },
    {
      "cell_type": "code",
      "metadata": {
        "id": "UieP5fGDVps5",
        "colab_type": "code",
        "colab": {}
      },
      "source": [
        "V = y_skipgram.shape[1]"
      ],
      "execution_count": 0,
      "outputs": []
    },
    {
      "cell_type": "code",
      "metadata": {
        "colab_type": "code",
        "id": "J1FTkStoDLFQ",
        "colab": {}
      },
      "source": [
        "def skipgram_architechture(dim):\n",
        "  model = Sequential()\n",
        "  model.add(Embedding(input_dim=V, output_dim=dim, input_length=1, embeddings_initializer='glorot_uniform'))\n",
        "  # not sure about the input length\n",
        "  #model.add(Reshape((94556,), input_shape=(1,94556)))\n",
        "  # above line or below line\n",
        "  model.add(Reshape((dim,)))\n",
        "  model.add(Dense(V, activation='softmax', kernel_initializer='glorot_uniform'))\n",
        "  model.compile(optimizer='adadelta',\n",
        "                  loss='categorical_crossentropy',\n",
        "                  metrics=['accuracy'])\n",
        "  return model"
      ],
      "execution_count": 0,
      "outputs": []
    },
    {
      "cell_type": "markdown",
      "metadata": {
        "id": "gHcXjkGZFkm9",
        "colab_type": "text"
      },
      "source": [
        "### Skipgram for Embedding Vector Length 50"
      ]
    },
    {
      "cell_type": "code",
      "metadata": {
        "id": "BJX9ht7X3se7",
        "colab_type": "code",
        "outputId": "d20d611a-f4d9-49c8-9730-243df1147e88",
        "colab": {
          "base_uri": "https://localhost:8080/",
          "height": 255
        }
      },
      "source": [
        "dim = 50\n",
        "skipgram50 = skipgram_architechture(dim)\n",
        "skipgram50.summary()"
      ],
      "execution_count": 0,
      "outputs": [
        {
          "output_type": "stream",
          "text": [
            "Model: \"sequential_11\"\n",
            "_________________________________________________________________\n",
            "Layer (type)                 Output Shape              Param #   \n",
            "=================================================================\n",
            "embedding_11 (Embedding)     (None, 1, 50)             127850    \n",
            "_________________________________________________________________\n",
            "reshape_9 (Reshape)          (None, 50)                0         \n",
            "_________________________________________________________________\n",
            "dense_11 (Dense)             (None, 2557)              130407    \n",
            "=================================================================\n",
            "Total params: 258,257\n",
            "Trainable params: 258,257\n",
            "Non-trainable params: 0\n",
            "_________________________________________________________________\n"
          ],
          "name": "stdout"
        }
      ]
    },
    {
      "cell_type": "markdown",
      "metadata": {
        "colab_type": "text",
        "id": "yxb3ulOlD1Z2"
      },
      "source": [
        "<b>HINT</b>: To increase training speed of your model, you can use the free available GPU power in Google Colab. Go to `Edit` --> `Notebook Settings` --> select `GPU` under `hardware accelerator`."
      ]
    },
    {
      "cell_type": "code",
      "metadata": {
        "colab_type": "code",
        "id": "a9eg0xPoDP9B",
        "outputId": "871f0d87-a643-4c36-89e7-21d5abf93eaa",
        "colab": {
          "base_uri": "https://localhost:8080/",
          "height": 357
        }
      },
      "source": [
        "# train skipgram model\n",
        "skipgram50.fit(x_skipgram, y_skipgram, batch_size=64, epochs=10)\n",
        "save_embeddings(skipgram50, 'skipgram_50')"
      ],
      "execution_count": 0,
      "outputs": [
        {
          "output_type": "stream",
          "text": [
            "Epoch 1/10\n",
            "1478/1478 [==============================] - 6s 4ms/step - loss: 7.8462 - accuracy: 3.8073e-04\n",
            "Epoch 2/10\n",
            "1478/1478 [==============================] - 6s 4ms/step - loss: 7.8454 - accuracy: 6.1339e-04\n",
            "Epoch 3/10\n",
            "1478/1478 [==============================] - 6s 4ms/step - loss: 7.8445 - accuracy: 0.0012\n",
            "Epoch 4/10\n",
            "1478/1478 [==============================] - 7s 4ms/step - loss: 7.8437 - accuracy: 0.0030\n",
            "Epoch 5/10\n",
            "1478/1478 [==============================] - 6s 4ms/step - loss: 7.8429 - accuracy: 0.0084\n",
            "Epoch 6/10\n",
            "1478/1478 [==============================] - 6s 4ms/step - loss: 7.8420 - accuracy: 0.0149\n",
            "Epoch 7/10\n",
            "1478/1478 [==============================] - 7s 5ms/step - loss: 7.8412 - accuracy: 0.0219\n",
            "Epoch 8/10\n",
            "1478/1478 [==============================] - 7s 5ms/step - loss: 7.8404 - accuracy: 0.0276\n",
            "Epoch 9/10\n",
            "1478/1478 [==============================] - 7s 4ms/step - loss: 7.8395 - accuracy: 0.0333\n",
            "Epoch 10/10\n",
            "1478/1478 [==============================] - 6s 4ms/step - loss: 7.8387 - accuracy: 0.0389\n"
          ],
          "name": "stdout"
        }
      ]
    },
    {
      "cell_type": "markdown",
      "metadata": {
        "id": "Yip30sMdF89H",
        "colab_type": "text"
      },
      "source": [
        "### Skipgram for embedding vector length 150"
      ]
    },
    {
      "cell_type": "code",
      "metadata": {
        "colab_type": "code",
        "id": "eGEHlkQ4DShO",
        "outputId": "5c89a5a0-70a7-48fd-a131-9d1b87290eab",
        "colab": {
          "base_uri": "https://localhost:8080/",
          "height": 612
        }
      },
      "source": [
        "# save embeddings for vectors of length 50, 150 and 300 using skipgram model\n",
        "dim = 150\n",
        "skipgram150 = skipgram_architechture(dim)\n",
        "skipgram150.summary()\n",
        "skipgram150.fit(x_skipgram, y_skipgram, batch_size=64, epochs=10)\n",
        "#save_embeddings(skipgram150, 'skipgram_150')\n"
      ],
      "execution_count": 0,
      "outputs": [
        {
          "output_type": "stream",
          "text": [
            "Model: \"sequential_13\"\n",
            "_________________________________________________________________\n",
            "Layer (type)                 Output Shape              Param #   \n",
            "=================================================================\n",
            "embedding_13 (Embedding)     (None, 1, 150)            383550    \n",
            "_________________________________________________________________\n",
            "reshape_11 (Reshape)         (None, 150)               0         \n",
            "_________________________________________________________________\n",
            "dense_13 (Dense)             (None, 2557)              386107    \n",
            "=================================================================\n",
            "Total params: 769,657\n",
            "Trainable params: 769,657\n",
            "Non-trainable params: 0\n",
            "_________________________________________________________________\n",
            "Epoch 1/10\n",
            "1478/1478 [==============================] - 9s 6ms/step - loss: 7.8459 - accuracy: 5.0764e-04\n",
            "Epoch 2/10\n",
            "1478/1478 [==============================] - 9s 6ms/step - loss: 7.8450 - accuracy: 0.0024\n",
            "Epoch 3/10\n",
            "1478/1478 [==============================] - 9s 6ms/step - loss: 7.8442 - accuracy: 0.0038\n",
            "Epoch 4/10\n",
            "1478/1478 [==============================] - 9s 6ms/step - loss: 7.8433 - accuracy: 0.0041\n",
            "Epoch 5/10\n",
            "1478/1478 [==============================] - 9s 6ms/step - loss: 7.8424 - accuracy: 0.0051\n",
            "Epoch 6/10\n",
            "1478/1478 [==============================] - 9s 6ms/step - loss: 7.8416 - accuracy: 0.0083\n",
            "Epoch 7/10\n",
            "1478/1478 [==============================] - 9s 6ms/step - loss: 7.8407 - accuracy: 0.0099\n",
            "Epoch 8/10\n",
            "1478/1478 [==============================] - 9s 6ms/step - loss: 7.8398 - accuracy: 0.0126\n",
            "Epoch 9/10\n",
            "1478/1478 [==============================] - 9s 6ms/step - loss: 7.8390 - accuracy: 0.0179\n",
            "Epoch 10/10\n",
            "1478/1478 [==============================] - 9s 6ms/step - loss: 7.8381 - accuracy: 0.0236\n"
          ],
          "name": "stdout"
        },
        {
          "output_type": "execute_result",
          "data": {
            "text/plain": [
              "<tensorflow.python.keras.callbacks.History at 0x7f971704d710>"
            ]
          },
          "metadata": {
            "tags": []
          },
          "execution_count": 61
        }
      ]
    },
    {
      "cell_type": "markdown",
      "metadata": {
        "id": "9zxqAAvIFzNI",
        "colab_type": "text"
      },
      "source": [
        "### Skipgram for embedding vector length 300"
      ]
    },
    {
      "cell_type": "code",
      "metadata": {
        "id": "U0ahwbVAFOUU",
        "colab_type": "code",
        "outputId": "5214f63c-e214-414d-81f0-92213b06a44e",
        "colab": {
          "base_uri": "https://localhost:8080/",
          "height": 357
        }
      },
      "source": [
        "dim = 300\n",
        "skipgram300 = skipgram_architechture(dim)\n",
        "skipgram300.fit(x_skipgram, y_skipgram, batch_size=32, epochs=10)\n",
        "save_embeddings(skipgram300, 'skipgram_300')"
      ],
      "execution_count": 0,
      "outputs": [
        {
          "output_type": "stream",
          "text": [
            "Epoch 1/10\n",
            "2955/2955 [==============================] - 19s 6ms/step - loss: 7.8458 - accuracy: 4.6533e-04\n",
            "Epoch 2/10\n",
            "2955/2955 [==============================] - 18s 6ms/step - loss: 7.8443 - accuracy: 0.0011\n",
            "Epoch 3/10\n",
            "2955/2955 [==============================] - 18s 6ms/step - loss: 7.8428 - accuracy: 0.0017\n",
            "Epoch 4/10\n",
            "2955/2955 [==============================] - 18s 6ms/step - loss: 7.8414 - accuracy: 0.0050\n",
            "Epoch 5/10\n",
            "2955/2955 [==============================] - 18s 6ms/step - loss: 7.8399 - accuracy: 0.0095\n",
            "Epoch 6/10\n",
            "2955/2955 [==============================] - 18s 6ms/step - loss: 7.8384 - accuracy: 0.0132\n",
            "Epoch 7/10\n",
            "2955/2955 [==============================] - 19s 6ms/step - loss: 7.8369 - accuracy: 0.0166\n",
            "Epoch 8/10\n",
            "2955/2955 [==============================] - 20s 7ms/step - loss: 7.8355 - accuracy: 0.0228\n",
            "Epoch 9/10\n",
            "2955/2955 [==============================] - 20s 7ms/step - loss: 7.8340 - accuracy: 0.0272\n",
            "Epoch 10/10\n",
            "2955/2955 [==============================] - 19s 6ms/step - loss: 7.8325 - accuracy: 0.0316\n"
          ],
          "name": "stdout"
        }
      ]
    },
    {
      "cell_type": "markdown",
      "metadata": {
        "colab_type": "text",
        "id": "b4z9Lt6pAZEw"
      },
      "source": [
        "## Task 1.2 - CBOW\n",
        "\n",
        "Build word embeddings of length 50, 150 and 300 using CBOW model."
      ]
    },
    {
      "cell_type": "code",
      "metadata": {
        "colab_type": "code",
        "id": "KMhI_sWFTXDW",
        "colab": {}
      },
      "source": [
        "# prepare data for CBOW\n",
        "\n",
        "# create training data\n",
        "\n",
        "# create CBOW architecture\n",
        "\n",
        "# train CBOW model\n",
        "\n",
        "# save embeddings for vectors of length 50, 150 and 300 using CBOW model"
      ],
      "execution_count": 0,
      "outputs": []
    },
    {
      "cell_type": "markdown",
      "metadata": {
        "id": "GZMJwlS7dETh",
        "colab_type": "text"
      },
      "source": [
        "Prepare data for CBOW\n",
        "\n"
      ]
    },
    {
      "cell_type": "code",
      "metadata": {
        "id": "DZmhahwTdR_d",
        "colab_type": "code",
        "colab": {}
      },
      "source": [
        "def generate_data_CBOW(corpus, window_size, V):\n",
        "    maxlen = window_size*2\n",
        "    all_in = []\n",
        "    all_out = [] #one real label wt\n",
        "    for line in corpus:\n",
        "        sentence_length = len(line)\n",
        "      \n",
        "        for index, word in enumerate(line):  #for each word in the line, we create a little neighborhood [left,right]\n",
        "            left = index - window_size\n",
        "            right = index + window_size + 1\n",
        "      \n",
        "            in_words = []   #neighbor words of wt, used as input to predict wt       \n",
        "      \n",
        "            for i in range(left, right):\n",
        "                if 0 <= i < sentence_length and i != index:\n",
        "                    # Add the input word\n",
        "                    in_words.append(line[i])\n",
        "\n",
        "            \n",
        "            all_in.append(in_words)\n",
        "            all_out.append(to_categorical(word,V))\n",
        "      \n",
        "    all_in = sequence.pad_sequences(all_in, maxlen=maxlen)\n",
        "                                      \n",
        "    return (np.array(all_in),np.array(all_out))"
      ],
      "execution_count": 0,
      "outputs": []
    },
    {
      "cell_type": "markdown",
      "metadata": {
        "id": "fQqNXVdPddWg",
        "colab_type": "text"
      },
      "source": [
        "Create training data"
      ]
    },
    {
      "cell_type": "code",
      "metadata": {
        "id": "28BDAMUxdh_G",
        "colab_type": "code",
        "colab": {}
      },
      "source": [
        "x , y = generate_data_CBOW(corpus,window_size,V)"
      ],
      "execution_count": 0,
      "outputs": []
    },
    {
      "cell_type": "markdown",
      "metadata": {
        "id": "Iswy4EU3gr12",
        "colab_type": "text"
      },
      "source": [
        "Create CBOW architecture"
      ]
    },
    {
      "cell_type": "code",
      "metadata": {
        "id": "du7xuYdIgw6P",
        "colab_type": "code",
        "colab": {}
      },
      "source": [
        "def cbow_architechture(dim):\n",
        "    cbow = Sequential()\n",
        "    cbow.add(Embedding(input_dim=V, output_dim=dim, embeddings_initializer='glorot_uniform', input_length=window_size*2))\n",
        "    cbow.add(Lambda(lambda x: K.mean(x, axis=1), output_shape=(dim,)))\n",
        "    cbow.add(Dense(V, kernel_initializer='glorot_uniform', activation='softmax'))\n",
        "    #multiclass classification->categorical_crossentropy loss, optimizer->PPT02 p24\n",
        "    cbow.compile(loss='categorical_crossentropy', optimizer='adadelta', metrics=['accuracy'])\n",
        "    return cbow"
      ],
      "execution_count": 0,
      "outputs": []
    },
    {
      "cell_type": "markdown",
      "metadata": {
        "id": "DNfaATp3g1Y0",
        "colab_type": "text"
      },
      "source": [
        "###CBOW for Embedding Vector Length 50"
      ]
    },
    {
      "cell_type": "markdown",
      "metadata": {
        "id": "HqtHGSsTG45-",
        "colab_type": "text"
      },
      "source": [
        "Train CBOW model - embedding vector length 50"
      ]
    },
    {
      "cell_type": "code",
      "metadata": {
        "id": "JqGNiCVyhy65",
        "colab_type": "code",
        "colab": {}
      },
      "source": [
        "# dimension of word embedding\n",
        "dim = 50\n",
        "\n",
        "cbow = cbow_architechture(dim)"
      ],
      "execution_count": 0,
      "outputs": []
    },
    {
      "cell_type": "code",
      "metadata": {
        "id": "IyZhcahTiKV2",
        "colab_type": "code",
        "colab": {}
      },
      "source": [
        "plot_model(cbow, show_shapes = True, show_layer_names=False)"
      ],
      "execution_count": 0,
      "outputs": []
    },
    {
      "cell_type": "code",
      "metadata": {
        "id": "GFiw8wiAiUo8",
        "colab_type": "code",
        "outputId": "8a64d2c2-e682-4552-f68f-3866c7f47fb1",
        "colab": {
          "base_uri": "https://localhost:8080/",
          "height": 255
        }
      },
      "source": [
        "cbow.summary()"
      ],
      "execution_count": 0,
      "outputs": [
        {
          "output_type": "stream",
          "text": [
            "Model: \"sequential_8\"\n",
            "_________________________________________________________________\n",
            "Layer (type)                 Output Shape              Param #   \n",
            "=================================================================\n",
            "embedding_8 (Embedding)      (None, 4, 50)             127850    \n",
            "_________________________________________________________________\n",
            "lambda_1 (Lambda)            (None, 50)                0         \n",
            "_________________________________________________________________\n",
            "dense_8 (Dense)              (None, 2557)              130407    \n",
            "=================================================================\n",
            "Total params: 258,257\n",
            "Trainable params: 258,257\n",
            "Non-trainable params: 0\n",
            "_________________________________________________________________\n"
          ],
          "name": "stdout"
        }
      ]
    },
    {
      "cell_type": "code",
      "metadata": {
        "id": "9qoQ_z3XiW2G",
        "colab_type": "code",
        "outputId": "b3c42770-2b50-4049-9e31-23cb50ce23b6",
        "colab": {
          "base_uri": "https://localhost:8080/",
          "height": 374
        }
      },
      "source": [
        "# train skipgram model\n",
        "cbow.fit(x, y, batch_size=64, epochs=10, verbose=1)"
      ],
      "execution_count": 0,
      "outputs": [
        {
          "output_type": "stream",
          "text": [
            "Epoch 1/10\n",
            "425/425 [==============================] - 2s 4ms/step - loss: 7.8463 - accuracy: 0.0012\n",
            "Epoch 2/10\n",
            "425/425 [==============================] - 2s 4ms/step - loss: 7.8461 - accuracy: 0.0015\n",
            "Epoch 3/10\n",
            "425/425 [==============================] - 2s 4ms/step - loss: 7.8459 - accuracy: 0.0021\n",
            "Epoch 4/10\n",
            "425/425 [==============================] - 2s 4ms/step - loss: 7.8456 - accuracy: 0.0035\n",
            "Epoch 5/10\n",
            "425/425 [==============================] - 2s 4ms/step - loss: 7.8454 - accuracy: 0.0049\n",
            "Epoch 6/10\n",
            "425/425 [==============================] - 2s 4ms/step - loss: 7.8451 - accuracy: 0.0064\n",
            "Epoch 7/10\n",
            "425/425 [==============================] - 2s 4ms/step - loss: 7.8449 - accuracy: 0.0089\n",
            "Epoch 8/10\n",
            "425/425 [==============================] - 2s 4ms/step - loss: 7.8447 - accuracy: 0.0116\n",
            "Epoch 9/10\n",
            "425/425 [==============================] - 2s 4ms/step - loss: 7.8444 - accuracy: 0.0142\n",
            "Epoch 10/10\n",
            "425/425 [==============================] - 2s 4ms/step - loss: 7.8442 - accuracy: 0.0174\n"
          ],
          "name": "stdout"
        },
        {
          "output_type": "execute_result",
          "data": {
            "text/plain": [
              "<tensorflow.python.keras.callbacks.History at 0x7f97193c5c50>"
            ]
          },
          "metadata": {
            "tags": []
          },
          "execution_count": 44
        }
      ]
    },
    {
      "cell_type": "markdown",
      "metadata": {
        "id": "1n_XLpoSizLy",
        "colab_type": "text"
      },
      "source": [
        "Save embedding"
      ]
    },
    {
      "cell_type": "code",
      "metadata": {
        "id": "KJwUgbFEGNJ2",
        "colab_type": "code",
        "colab": {}
      },
      "source": [
        "save_embeddings(cbow, 'vectors_cbow{dim}'.format(dim=dim))"
      ],
      "execution_count": 0,
      "outputs": []
    },
    {
      "cell_type": "markdown",
      "metadata": {
        "id": "6hIlAEr9G_sb",
        "colab_type": "text"
      },
      "source": [
        "###CBOW for Embedding Vector Length 150"
      ]
    },
    {
      "cell_type": "markdown",
      "metadata": {
        "colab_type": "text",
        "id": "xhQJ-pOgjrp4"
      },
      "source": [
        "Train CBOW model - embedding vector length 150"
      ]
    },
    {
      "cell_type": "code",
      "metadata": {
        "id": "BVb7BxTdjoyp",
        "colab_type": "code",
        "colab": {}
      },
      "source": [
        "# dimension of word embedding\n",
        "dim = 150\n",
        "\n",
        "cbow = cbow_architechture(dim)"
      ],
      "execution_count": 0,
      "outputs": []
    },
    {
      "cell_type": "code",
      "metadata": {
        "id": "FginlQRMj4aQ",
        "colab_type": "code",
        "colab": {}
      },
      "source": [
        "plot_model(cbow, show_shapes = True, show_layer_names=False)"
      ],
      "execution_count": 0,
      "outputs": []
    },
    {
      "cell_type": "code",
      "metadata": {
        "id": "bi7D2JxNj7qX",
        "colab_type": "code",
        "colab": {}
      },
      "source": [
        "cbow.summary()"
      ],
      "execution_count": 0,
      "outputs": []
    },
    {
      "cell_type": "code",
      "metadata": {
        "id": "19djsLqij_dq",
        "colab_type": "code",
        "colab": {}
      },
      "source": [
        "# train skipgram model\n",
        "cbow.fit(x, y, batch_size=64, epochs=10, verbose=1)"
      ],
      "execution_count": 0,
      "outputs": []
    },
    {
      "cell_type": "markdown",
      "metadata": {
        "id": "snC7VXXHj2nO",
        "colab_type": "text"
      },
      "source": [
        "Save embedding"
      ]
    },
    {
      "cell_type": "code",
      "metadata": {
        "id": "xGpTElB1kHh7",
        "colab_type": "code",
        "colab": {}
      },
      "source": [
        "save_embeddings(cbow, 'vectors_cbow{dim}'.format(dim=dim))"
      ],
      "execution_count": 0,
      "outputs": []
    },
    {
      "cell_type": "markdown",
      "metadata": {
        "id": "PiVIWzmDHG9t",
        "colab_type": "text"
      },
      "source": [
        "###CBOW for Embedding Vector Length 300"
      ]
    },
    {
      "cell_type": "markdown",
      "metadata": {
        "colab_type": "text",
        "id": "vVnwNWvpkPNd"
      },
      "source": [
        "Train CBOW model - embedding vector length 300"
      ]
    },
    {
      "cell_type": "code",
      "metadata": {
        "id": "tqJZJ7oGkRNN",
        "colab_type": "code",
        "colab": {}
      },
      "source": [
        "# dimension of word embedding\n",
        "dim = 300\n",
        "\n",
        "cbow = cbow_architechture(dim)"
      ],
      "execution_count": 0,
      "outputs": []
    },
    {
      "cell_type": "code",
      "metadata": {
        "id": "-UXwCXe9oM1A",
        "colab_type": "code",
        "colab": {}
      },
      "source": [
        "plot_model(cbow, show_shapes = True, show_layer_names=False)"
      ],
      "execution_count": 0,
      "outputs": []
    },
    {
      "cell_type": "code",
      "metadata": {
        "id": "D5uo15a5oR9N",
        "colab_type": "code",
        "colab": {}
      },
      "source": [
        "cbow.summary()"
      ],
      "execution_count": 0,
      "outputs": []
    },
    {
      "cell_type": "code",
      "metadata": {
        "id": "JVRh42vmoUmP",
        "colab_type": "code",
        "colab": {}
      },
      "source": [
        "# train skipgram model\n",
        "cbow.fit(x, y, batch_size=64, epochs=10, verbose=1)"
      ],
      "execution_count": 0,
      "outputs": []
    },
    {
      "cell_type": "markdown",
      "metadata": {
        "id": "EuCa4_ILoX1K",
        "colab_type": "text"
      },
      "source": [
        "Save embedding"
      ]
    },
    {
      "cell_type": "code",
      "metadata": {
        "id": "hGM8z6adGoE5",
        "colab_type": "code",
        "colab": {}
      },
      "source": [
        "save_embeddings(cbow, 'vectors_cbow{dim}'.format(dim=dim))"
      ],
      "execution_count": 0,
      "outputs": []
    },
    {
      "cell_type": "markdown",
      "metadata": {
        "colab_type": "text",
        "id": "rr2BAI4nAfnG"
      },
      "source": [
        "## Task 1.3 - Analogy function\n",
        "\n",
        "Implement your own function to perform the analogy task (see [1] for concrete examples). Use the same distance metric as in [1]. Do not use existing libraries for this task such as Gensim. Your function should be able to answer whether an analogy like: \"a king is to a queen as a man is to a woman\" ($e_{king} - e_{queen} + e_{woman} \\approx e_{man}$) is true. \n",
        "\n",
        "In a perfect scenario, we would like that this analogy ( $e_{king} - e_{queen} + e_{woman}$) results in the embedding of the word \"man\". However, it does not always result in exactly the same word embedding. The result of the formula is called the expected or the predicted word embedding. In this context, \"man\" is called the true or the actual word $t$. We want to find the word $p$ in the vocabulary, where the embedding of $p$ ($e_p$) is the closest to the predicted embedding (i.e. result of the formula). Then, we can check if $p$ is the same word as the true word $t$.  \n",
        "\n",
        "You have to answer an analogy function using each embedding for both CBOW and Skipgram model. This means that for each analogy we have 6 outputs. Show the true word (with distance similarity value between predicted embedding and true word embedding, i.e. `sim1`) , the predicted word (with distance similarity value between predicted embedding and the embedding of the word in the vocabulary that is closest to this predicted embedding, i.e. `sim2`) and a boolean answer whether the predicted word **exactly** equals the true word. \n",
        "\n",
        "<b>HINT</b>: to visualize the results of the analogy tasks , you can print them in a table. An example is given below.\n",
        "\n",
        "\n",
        "| Analogy task | True word (sim1)  | Predicted word (sim2) | Embedding | Correct?|\n",
        "|------|------|------|------|------|\n",
        "|  queen is to king as woman is to ?\t | man (sim1) | predictd_word(sim2) | SG_50 | True / False|\n",
        "\n",
        "* Give at least 5 different  examples of analogies.\n",
        "* Compare the performance on the analogy s between the word embeddings and briefly discuss your results."
      ]
    },
    {
      "cell_type": "code",
      "metadata": {
        "id": "gIc4NawcZVZg",
        "colab_type": "code",
        "colab": {}
      },
      "source": [
        "def get_embedding_from_file(name):\n",
        "  file = open(name + '.txt', 'r')\n",
        "  return file"
      ],
      "execution_count": 0,
      "outputs": []
    },
    {
      "cell_type": "code",
      "metadata": {
        "id": "ofqkCZK2ZxAu",
        "colab_type": "code",
        "outputId": "313afe6e-ac5c-4e49-9c34-3fd3fcad466d",
        "colab": {
          "base_uri": "https://localhost:8080/",
          "height": 300
        }
      },
      "source": [
        "embedding = get_embedding_from_file('skipgram_50')\n",
        "embed('king', embedding)"
      ],
      "execution_count": 0,
      "outputs": [
        {
          "output_type": "error",
          "ename": "TypeError",
          "evalue": "ignored",
          "traceback": [
            "\u001b[0;31m---------------------------------------------------------------------------\u001b[0m",
            "\u001b[0;31mTypeError\u001b[0m                                 Traceback (most recent call last)",
            "\u001b[0;32m<ipython-input-36-ef816036b90c>\u001b[0m in \u001b[0;36m<module>\u001b[0;34m()\u001b[0m\n\u001b[1;32m      1\u001b[0m \u001b[0membedding\u001b[0m \u001b[0;34m=\u001b[0m \u001b[0mget_embedding_from_file\u001b[0m\u001b[0;34m(\u001b[0m\u001b[0;34m'skipgram_50'\u001b[0m\u001b[0;34m)\u001b[0m\u001b[0;34m\u001b[0m\u001b[0;34m\u001b[0m\u001b[0m\n\u001b[0;32m----> 2\u001b[0;31m \u001b[0membed\u001b[0m\u001b[0;34m(\u001b[0m\u001b[0;34m'king'\u001b[0m\u001b[0;34m,\u001b[0m \u001b[0membedding\u001b[0m\u001b[0;34m)\u001b[0m\u001b[0;34m\u001b[0m\u001b[0;34m\u001b[0m\u001b[0m\n\u001b[0m",
            "\u001b[0;32m<ipython-input-33-03b97b8175a7>\u001b[0m in \u001b[0;36membed\u001b[0;34m(word, embedding, vocab_size, tokenizer)\u001b[0m\n\u001b[1;32m      2\u001b[0m   \u001b[0mint_word\u001b[0m \u001b[0;34m=\u001b[0m \u001b[0mtokenizer\u001b[0m\u001b[0;34m.\u001b[0m\u001b[0mtexts_to_sequences\u001b[0m\u001b[0;34m(\u001b[0m\u001b[0;34m[\u001b[0m\u001b[0mword\u001b[0m\u001b[0;34m]\u001b[0m\u001b[0;34m)\u001b[0m\u001b[0;34m[\u001b[0m\u001b[0;36m0\u001b[0m\u001b[0;34m]\u001b[0m\u001b[0;34m\u001b[0m\u001b[0;34m\u001b[0m\u001b[0m\n\u001b[1;32m      3\u001b[0m   \u001b[0mbin_word\u001b[0m \u001b[0;34m=\u001b[0m \u001b[0mto_categorical\u001b[0m\u001b[0;34m(\u001b[0m\u001b[0mint_word\u001b[0m\u001b[0;34m,\u001b[0m \u001b[0mV\u001b[0m\u001b[0;34m)\u001b[0m\u001b[0;34m\u001b[0m\u001b[0;34m\u001b[0m\u001b[0m\n\u001b[0;32m----> 4\u001b[0;31m   \u001b[0;32mreturn\u001b[0m \u001b[0mnp\u001b[0m\u001b[0;34m.\u001b[0m\u001b[0mdot\u001b[0m\u001b[0;34m(\u001b[0m\u001b[0mbin_word\u001b[0m\u001b[0;34m,\u001b[0m \u001b[0membedding\u001b[0m\u001b[0;34m)\u001b[0m\u001b[0;34m\u001b[0m\u001b[0;34m\u001b[0m\u001b[0m\n\u001b[0m",
            "\u001b[0;32m<__array_function__ internals>\u001b[0m in \u001b[0;36mdot\u001b[0;34m(*args, **kwargs)\u001b[0m\n",
            "\u001b[0;31mTypeError\u001b[0m: unsupported operand type(s) for *: 'float' and '_io.TextIOWrapper'"
          ]
        }
      ]
    },
    {
      "cell_type": "code",
      "metadata": {
        "id": "8rALd-jzJgs8",
        "colab_type": "code",
        "colab": {}
      },
      "source": [
        "def embed(word, embedding, vocab_size=V, tokenizer=tokenizer):\n",
        "  int_word = tokenizer.texts_to_sequences([word])[0]\n",
        "  bin_word = to_categorical(int_word, V)\n",
        "  return np.dot(bin_word, embedding)"
      ],
      "execution_count": 0,
      "outputs": []
    },
    {
      "cell_type": "code",
      "metadata": {
        "id": "z3F4TwToLPjk",
        "colab_type": "code",
        "colab": {}
      },
      "source": [
        "embedding = get_embedding_from_file(model_name)\n",
        "predicted_embedding = embed('king', embedding) - embed('queen', embedding) + embed('woman', embedding) "
      ],
      "execution_count": 0,
      "outputs": []
    },
    {
      "cell_type": "code",
      "metadata": {
        "id": "EVMSK0kWSDeE",
        "colab_type": "code",
        "colab": {}
      },
      "source": [
        "print(distance_exp_true = np.linalg.norm(predictedEmbedding - embed('man')))"
      ],
      "execution_count": 0,
      "outputs": []
    },
    {
      "cell_type": "markdown",
      "metadata": {
        "colab_type": "text",
        "id": "5h-OWIF9AsKH"
      },
      "source": [
        "## Task 1.4 - Discussion\n",
        "Answer the following question:\n",
        "* Given the same number of sentences as input, CBOW and Skipgram arrange the data into different number of training samples. Which one has more and why?\n"
      ]
    },
    {
      "cell_type": "markdown",
      "metadata": {
        "colab_type": "text",
        "id": "mOa7EXhD-saI"
      },
      "source": [
        "# Question 2 - Peer review (0 pt):\n",
        "Finally, each group member must write a single paragraph outlining their opinion on the work distribution within the group. Did every group member\n",
        "contribute equally? Did you split up tasks in a fair manner, or jointly worked through the exercises. Do you think that some members of your group deserve a different grade from others? You can use the table below to make an overview of how the tasks were divided:\n",
        "\n"
      ]
    },
    {
      "cell_type": "markdown",
      "metadata": {
        "colab_type": "text",
        "id": "RWdcoJH__MqP"
      },
      "source": [
        "| Student name | Task  |\n",
        "|------|------|\n",
        "|  student name 1  | task x |\n",
        "| student name 2  | task x|\n",
        "| everyone | task x|\n"
      ]
    },
    {
      "cell_type": "markdown",
      "metadata": {
        "id": "JWYl6xb6XrVR",
        "colab_type": "text"
      },
      "source": [
        "Doubts\n",
        "\n",
        "-- What is V in CBOW model?\n",
        "\n",
        "-- How to read the embeddings again from the files for Q 1.3?"
      ]
    },
    {
      "cell_type": "code",
      "metadata": {
        "id": "sFwRSqYFhKmf",
        "colab_type": "code",
        "colab": {}
      },
      "source": [
        ""
      ],
      "execution_count": 0,
      "outputs": []
    }
  ]
}