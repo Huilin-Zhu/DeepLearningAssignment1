{
  "nbformat": 4,
  "nbformat_minor": 0,
  "metadata": {
    "colab": {
      "name": "Assignment 1 (TF 2).ipynb",
      "provenance": [],
      "collapsed_sections": [],
      "machine_shape": "hm"
    },
    "kernelspec": {
      "display_name": "Python 3",
      "language": "python",
      "name": "python3"
    },
    "language_info": {
      "codemirror_mode": {
        "name": "ipython",
        "version": 3
      },
      "file_extension": ".py",
      "mimetype": "text/x-python",
      "name": "python",
      "nbconvert_exporter": "python",
      "pygments_lexer": "ipython3",
      "version": "3.7.4"
    }
  },
  "cells": [
    {
      "cell_type": "markdown",
      "metadata": {
        "id": "7uut_aem5B5q",
        "colab_type": "text"
      },
      "source": [
        "[![Open In Colab](https://colab.research.google.com/assets/colab-badge.svg)](https://colab.research.google.com/github/satyaki-mallick/DeepLearningAssignment1/blob/master/Assignment_1.ipynb#scrollTo=7uut_aem5B5q)"
      ]
    },
    {
      "cell_type": "markdown",
      "metadata": {
        "colab_type": "text",
        "id": "7ORVPadj7rKq"
      },
      "source": [
        "# Assignment 1\n",
        "\n",
        "<b>Group [fill in group number]</b>\n",
        "* <b> Student 1 </b> : SATYAKI MALLICK + 1410881\n",
        "* <b> Student 2 </b> : HUILIN + Huilin_student_no\n",
        "\n",
        "**Reading material**\n",
        "* [1] Mikolov, Tomas, et al. \"[Efficient Estimation of Word Representations in Vector Space](https://arxiv.org/abs/1301.3781)\" Advances in neural information processing systems. 2013. \n",
        "\n",
        "<b><font color='red'>NOTE</font></b> When submitting your notebook, please make sure that the training history of your model is visible in the output. This means that you should **NOT** clean your output cells of the notebook. Make sure that your notebook runs without errors in linear order.\n",
        "\n"
      ]
    },
    {
      "cell_type": "markdown",
      "metadata": {
        "colab_type": "text",
        "id": "6rQwLyiMFu_1"
      },
      "source": [
        "# Question 1 - Keras implementation (10 pt)\n",
        "\n",
        "### Word embeddings\n",
        "Build word embeddings with a Keras implementation where the embedding vector is of length 50, 150 and 300. Use the Alice in Wonderland text book for training. Use a window size of 2 to train the embeddings (`window_size` in the jupyter notebook). \n",
        "\n",
        "1. Build word embeddings of length 50, 150 and 300 using the Skipgram model\n",
        "2. Build word embeddings of length 50, 150 and 300 using CBOW model\n",
        "3. Analyze the different word embeddings:\n",
        "    - Implement your own function to perform the analogy task (see [1] for concrete examples). Use the same distance metric as in the paper. Do not use existing libraries for this task such as Gensim. \n",
        "Your function should be able to answer whether an analogy like: \"a king is to a queen as a man is to a woman\" ($e_{king} - e_{queen} + e_{woman} \\approx e_{man}$) is true. $e_{x}$ denotes the embedding of word $x$. We want to find the word $p$ in the vocabulary, where the embedding of $p$ ($e_p$) is the closest to the predicted embedding (i.e. result of the formula). Then, we can check if $p$ is the same word as the true word $t$.\n",
        "    - Give at least 5 different  examples of analogies.\n",
        "    - Compare the performance on the analogy tasks between the word embeddings and briefly discuss your results.\n",
        "\n",
        "4. Discuss:\n",
        "  - Given the same number of sentences as input, CBOW and Skipgram arrange the data into different number of training samples. Which one has more and why?\n",
        "\n",
        "\n",
        "<b>HINT</b> See practical 3.1 for some helpful code to start this assignment.\n"
      ]
    },
    {
      "cell_type": "markdown",
      "metadata": {
        "colab_type": "text",
        "id": "ctoyAoX1AI6T"
      },
      "source": [
        "### Import libraries"
      ]
    },
    {
      "cell_type": "code",
      "metadata": {
        "colab_type": "code",
        "id": "x5VOelR7BYQ1",
        "colab": {}
      },
      "source": [
        "%tensorflow_version 2.x"
      ],
      "execution_count": 0,
      "outputs": []
    },
    {
      "cell_type": "code",
      "metadata": {
        "colab_type": "code",
        "id": "vCnATRPgBZEd",
        "outputId": "1ad8ff11-e9e8-4556-ae46-868e0a223e3f",
        "colab": {
          "base_uri": "https://localhost:8080/",
          "height": 34
        }
      },
      "source": [
        "import numpy as np\n",
        "import keras.backend as K\n",
        "import tensorflow as tf\n",
        "from tensorflow import keras\n",
        "\n",
        "from tensorflow.keras.models import Sequential\n",
        "from tensorflow.keras.layers import Dense, Embedding, Reshape, Lambda\n",
        "from tensorflow.keras.utils import to_categorical\n",
        "from tensorflow.keras.preprocessing.text import Tokenizer\n",
        "from tensorflow.keras.utils import plot_model\n",
        "from tensorflow.keras.preprocessing import sequence\n",
        "\n",
        "# other helpful libraries\n",
        "from sklearn.manifold import TSNE\n",
        "from sklearn.metrics.pairwise import cosine_similarity\n",
        "from sklearn.neighbors import NearestNeighbors as nn\n",
        "from matplotlib import pylab\n",
        "import pandas as pd"
      ],
      "execution_count": 0,
      "outputs": [
        {
          "output_type": "stream",
          "text": [
            "Using TensorFlow backend.\n"
          ],
          "name": "stderr"
        }
      ]
    },
    {
      "cell_type": "code",
      "metadata": {
        "colab_type": "code",
        "id": "qBNCPtOoBbB1",
        "outputId": "2a42371c-a86e-48e0-a760-6ca122ca56a4",
        "colab": {
          "base_uri": "https://localhost:8080/",
          "height": 34
        }
      },
      "source": [
        "print(tf.__version__) #  check what version of TF is imported"
      ],
      "execution_count": 0,
      "outputs": [
        {
          "output_type": "stream",
          "text": [
            "2.2.0\n"
          ],
          "name": "stdout"
        }
      ]
    },
    {
      "cell_type": "markdown",
      "metadata": {
        "colab_type": "text",
        "id": "WCd0zUO1AKjY"
      },
      "source": [
        "### Import file\n",
        "\n",
        "If you use Google Colab, you need to mount your Google Drive to the notebook when you want to use files that are located in your Google Drive. Paste the authorization code, from the new tab page that opens automatically when running the cell, in the cell below."
      ]
    },
    {
      "cell_type": "code",
      "metadata": {
        "colab_type": "code",
        "id": "DdjNeehKBd-a",
        "outputId": "d9fe10c7-0d98-4ece-da0d-3ee19d9ee7f5",
        "colab": {
          "base_uri": "https://localhost:8080/",
          "height": 34
        }
      },
      "source": [
        "from google.colab import drive\n",
        "drive.mount('/content/drive')"
      ],
      "execution_count": 0,
      "outputs": [
        {
          "output_type": "stream",
          "text": [
            "Drive already mounted at /content/drive; to attempt to forcibly remount, call drive.mount(\"/content/drive\", force_remount=True).\n"
          ],
          "name": "stdout"
        }
      ]
    },
    {
      "cell_type": "markdown",
      "metadata": {
        "colab_type": "text",
        "id": "UjIVBt8YGUaO"
      },
      "source": [
        "Navigate to the folder in which `alice.txt` is located. Make sure to start path with '/content/drive/My Drive/' if you want to load the file from your Google Drive."
      ]
    },
    {
      "cell_type": "code",
      "metadata": {
        "colab_type": "code",
        "id": "iS0-uINUBfic",
        "outputId": "b144b76e-d90e-4350-fc13-0047b197790b",
        "colab": {
          "base_uri": "https://localhost:8080/",
          "height": 34
        }
      },
      "source": [
        "cd '/content/drive/My Drive/Colab Notebooks/'"
      ],
      "execution_count": 0,
      "outputs": [
        {
          "output_type": "stream",
          "text": [
            "/content/drive/My Drive/Colab Notebooks\n"
          ],
          "name": "stdout"
        }
      ]
    },
    {
      "cell_type": "code",
      "metadata": {
        "colab_type": "code",
        "id": "Gz8Z5gCDBhSl",
        "colab": {}
      },
      "source": [
        "file_name = 'alice.txt'\n",
        "corpus = open(file_name).readlines()"
      ],
      "execution_count": 0,
      "outputs": []
    },
    {
      "cell_type": "markdown",
      "metadata": {
        "colab_type": "text",
        "id": "zkbk32wHANnD"
      },
      "source": [
        "### Data preprocessing\n",
        "\n",
        "See Practical 3.1 for an explanation of the preprocessing steps done below."
      ]
    },
    {
      "cell_type": "code",
      "metadata": {
        "colab_type": "code",
        "id": "37PyOHq2BkY4",
        "colab": {}
      },
      "source": [
        "# Removes sentences with fewer than 3 words\n",
        "corpus = [sentence for sentence in corpus if sentence.count(\" \") >= 2]\n",
        "\n",
        "# remove punctuation in text and fit tokenizer on entire corpus\n",
        "tokenizer = Tokenizer(filters='!\"#$%&()*+,-./:;<=>?@[\\\\]^_`{|}~\\t\\n'+\"'\")\n",
        "tokenizer.fit_on_texts(corpus)\n",
        "\n",
        "# convert text to sequence of integer values\n",
        "corpus = tokenizer.texts_to_sequences(corpus)\n",
        "n_samples = sum(len(s) for s in corpus) # total number of words in the corpus\n",
        "V = len(tokenizer.word_index) + 1 # total number of unique words in the corpus"
      ],
      "execution_count": 0,
      "outputs": []
    },
    {
      "cell_type": "code",
      "metadata": {
        "colab_type": "code",
        "id": "ILdA_IimBlte",
        "outputId": "4cb59309-1a36-427d-f2af-4280735db505",
        "colab": {
          "base_uri": "https://localhost:8080/",
          "height": 34
        }
      },
      "source": [
        "n_samples, V"
      ],
      "execution_count": 0,
      "outputs": [
        {
          "output_type": "execute_result",
          "data": {
            "text/plain": [
              "(27165, 2557)"
            ]
          },
          "metadata": {
            "tags": []
          },
          "execution_count": 9
        }
      ]
    },
    {
      "cell_type": "code",
      "metadata": {
        "colab_type": "code",
        "id": "fRbpue0WBms6",
        "outputId": "ef26e140-91d6-4350-efeb-877ce6c195d1",
        "colab": {
          "base_uri": "https://localhost:8080/",
          "height": 34
        }
      },
      "source": [
        "# example of how word to integer mapping looks like in the tokenizer\n",
        "print(list((tokenizer.word_index.items()))[:5])"
      ],
      "execution_count": 0,
      "outputs": [
        {
          "output_type": "stream",
          "text": [
            "[('the', 1), ('and', 2), ('to', 3), ('a', 4), ('it', 5)]\n"
          ],
          "name": "stdout"
        }
      ]
    },
    {
      "cell_type": "code",
      "metadata": {
        "colab_type": "code",
        "id": "Er86VxH9BqI9",
        "colab": {}
      },
      "source": [
        "# parameters\n",
        "window_size = 2\n",
        "window_size_corpus = 4"
      ],
      "execution_count": 0,
      "outputs": []
    },
    {
      "cell_type": "code",
      "metadata": {
        "id": "qc_S3hY2EamG",
        "colab_type": "code",
        "colab": {}
      },
      "source": [
        "# def save_embeddings_old(model, model_name):\n",
        "#   weights = model.get_weights()\n",
        "#   embedding = weights[0]\n",
        "#   f = open(model_name + '.txt', 'w')\n",
        "#   f.write(\" \".join([str(V-1), str(dim)]))\n",
        "#   f.write(\"\\n\")\n",
        "\n",
        "#   for word,i in tokenizer.word_index.items():\n",
        "#     f.write(word)\n",
        "#     f.write(\" \")\n",
        "#     f.write(\" \".join(map(str, list(embedding[i,:]))))\n",
        "#     f.write(\"\\n\")\n",
        "#   f.close()"
      ],
      "execution_count": 0,
      "outputs": []
    },
    {
      "cell_type": "code",
      "metadata": {
        "id": "LVUwWvbBBzJv",
        "colab_type": "code",
        "colab": {}
      },
      "source": [
        "def save_embeddings(model, model_name):\n",
        "  weights = model.get_weights()\n",
        "  embedding = weights[0]\n",
        "  np.savetxt('new_' + model_name + '.txt',embedding)"
      ],
      "execution_count": 0,
      "outputs": []
    },
    {
      "cell_type": "markdown",
      "metadata": {
        "colab_type": "text",
        "id": "M0sU1JORATvX"
      },
      "source": [
        "## Task 1.1 - Skipgram\n",
        "Build word embeddings of length 50, 150 and 300 using the Skipgram model."
      ]
    },
    {
      "cell_type": "code",
      "metadata": {
        "colab_type": "code",
        "id": "Udp1xKcDBu0v",
        "colab": {}
      },
      "source": [
        "#prepare data for skipgram\n",
        "def generate_data_skipgram(corpus, window_size, V):\n",
        "    # TODO Implement here\n",
        "    # HINT: see Practical 3.1\n",
        "    maxlen = window_size*2\n",
        "    all_in = []\n",
        "    all_out = []\n",
        "    for words in corpus:\n",
        "        L = len(words)\n",
        "        for index, word in enumerate(words):\n",
        "            p = index - window_size\n",
        "            n = index + window_size + 1\n",
        "                    \n",
        "            in_words = []\n",
        "            labels = []\n",
        "            for i in range(p, n):\n",
        "                if i != index and 0 <= i < L:\n",
        "                    # Add the input word\n",
        "                    #in_words.append(word)\n",
        "                    all_in.append(word)\n",
        "                    # Add one-hot of the context words\n",
        "                    all_out.append(to_categorical(words[i], V))\n",
        "                                      \n",
        "    return (np.array(all_in),np.array(all_out))"
      ],
      "execution_count": 0,
      "outputs": []
    },
    {
      "cell_type": "code",
      "metadata": {
        "colab_type": "code",
        "id": "qXBGNrKTB0tO",
        "colab": {}
      },
      "source": [
        "# create training data\n",
        "x_skipgram , y_skipgram = generate_data_skipgram(corpus,window_size,V)"
      ],
      "execution_count": 0,
      "outputs": []
    },
    {
      "cell_type": "code",
      "metadata": {
        "id": "My8ZZJNbsCCs",
        "colab_type": "code",
        "colab": {}
      },
      "source": [
        "# x each word represented as a number and then a window created"
      ],
      "execution_count": 0,
      "outputs": []
    },
    {
      "cell_type": "code",
      "metadata": {
        "id": "ifUAcKq1smqj",
        "colab_type": "code",
        "colab": {}
      },
      "source": [
        "# Sample of y:\n",
        "# rows represent each word.\n",
        "# columns represent total unique words\n",
        "# sample array for y for input [1, 0, 3, 4, 5, 0, 2, 1]\n",
        "# array([[ 0.,  1.,  0.,  0.,  0.,  0.],\n",
        "#        [ 1.,  0.,  0.,  0.,  0.,  0.],\n",
        "#        [ 0.,  0.,  0.,  1.,  0.,  0.],\n",
        "#        [ 0.,  0.,  0.,  0.,  1.,  0.],\n",
        "#        [ 0.,  0.,  0.,  0.,  0.,  1.],\n",
        "#        [ 1.,  0.,  0.,  0.,  0.,  0.],\n",
        "#        [ 0.,  0.,  1.,  0.,  0.,  0.],\n",
        "#        [ 0.,  1.,  0.,  0.,  0.,  0.]])"
      ],
      "execution_count": 0,
      "outputs": []
    },
    {
      "cell_type": "code",
      "metadata": {
        "id": "VhOEHUygm7y3",
        "colab_type": "code",
        "outputId": "0a885351-12ae-42ef-b889-eece649a3162",
        "colab": {
          "base_uri": "https://localhost:8080/",
          "height": 34
        }
      },
      "source": [
        "x_skipgram.shape, y_skipgram.shape"
      ],
      "execution_count": 0,
      "outputs": [
        {
          "output_type": "execute_result",
          "data": {
            "text/plain": [
              "((94556,), (94556, 2557))"
            ]
          },
          "metadata": {
            "tags": []
          },
          "execution_count": 73
        }
      ]
    },
    {
      "cell_type": "code",
      "metadata": {
        "id": "UieP5fGDVps5",
        "colab_type": "code",
        "colab": {}
      },
      "source": [
        "V = y_skipgram.shape[1]"
      ],
      "execution_count": 0,
      "outputs": []
    },
    {
      "cell_type": "code",
      "metadata": {
        "colab_type": "code",
        "id": "J1FTkStoDLFQ",
        "colab": {}
      },
      "source": [
        "def skipgram_architechture(dim):\n",
        "  model = Sequential()\n",
        "  model.add(Embedding(input_dim=V, output_dim=dim, input_length=1, embeddings_initializer='glorot_uniform'))\n",
        "  # not sure about the input length\n",
        "  #model.add(Reshape((94556,), input_shape=(1,94556)))\n",
        "  # above line or below line\n",
        "  model.add(Reshape((dim,)))\n",
        "  model.add(Dense(V, activation='softmax', kernel_initializer='glorot_uniform'))\n",
        "  model.compile(optimizer='adadelta',\n",
        "                  loss='categorical_crossentropy',\n",
        "                  metrics=['accuracy'])\n",
        "  return model"
      ],
      "execution_count": 0,
      "outputs": []
    },
    {
      "cell_type": "markdown",
      "metadata": {
        "id": "gHcXjkGZFkm9",
        "colab_type": "text"
      },
      "source": [
        "### Skipgram for Embedding Vector Length 50"
      ]
    },
    {
      "cell_type": "code",
      "metadata": {
        "id": "BJX9ht7X3se7",
        "colab_type": "code",
        "outputId": "0c7996be-08b4-4ceb-9993-b1ab36febbfc",
        "colab": {
          "base_uri": "https://localhost:8080/",
          "height": 255
        }
      },
      "source": [
        "dim = 50\n",
        "skipgram50 = skipgram_architechture(dim)\n",
        "skipgram50.summary()"
      ],
      "execution_count": 0,
      "outputs": [
        {
          "output_type": "stream",
          "text": [
            "Model: \"sequential_2\"\n",
            "_________________________________________________________________\n",
            "Layer (type)                 Output Shape              Param #   \n",
            "=================================================================\n",
            "embedding_2 (Embedding)      (None, 1, 50)             127850    \n",
            "_________________________________________________________________\n",
            "reshape_2 (Reshape)          (None, 50)                0         \n",
            "_________________________________________________________________\n",
            "dense_2 (Dense)              (None, 2557)              130407    \n",
            "=================================================================\n",
            "Total params: 258,257\n",
            "Trainable params: 258,257\n",
            "Non-trainable params: 0\n",
            "_________________________________________________________________\n"
          ],
          "name": "stdout"
        }
      ]
    },
    {
      "cell_type": "markdown",
      "metadata": {
        "colab_type": "text",
        "id": "yxb3ulOlD1Z2"
      },
      "source": [
        "<b>HINT</b>: To increase training speed of your model, you can use the free available GPU power in Google Colab. Go to `Edit` --> `Notebook Settings` --> select `GPU` under `hardware accelerator`."
      ]
    },
    {
      "cell_type": "code",
      "metadata": {
        "colab_type": "code",
        "id": "a9eg0xPoDP9B",
        "outputId": "759263af-6c9e-427c-bf54-da3a04c4d035",
        "colab": {
          "base_uri": "https://localhost:8080/",
          "height": 357
        }
      },
      "source": [
        "# train skipgram model\n",
        "skipgram50.fit(x_skipgram, y_skipgram, batch_size=64, epochs=10)\n",
        "save_embeddings(skipgram50, 'skipgram_50')"
      ],
      "execution_count": 0,
      "outputs": [
        {
          "output_type": "stream",
          "text": [
            "Epoch 1/10\n",
            "1478/1478 [==============================] - 7s 5ms/step - loss: 7.8463 - accuracy: 4.0188e-04\n",
            "Epoch 2/10\n",
            "1478/1478 [==============================] - 6s 4ms/step - loss: 7.8455 - accuracy: 9.4124e-04\n",
            "Epoch 3/10\n",
            "1478/1478 [==============================] - 6s 4ms/step - loss: 7.8447 - accuracy: 0.0019\n",
            "Epoch 4/10\n",
            "1478/1478 [==============================] - 6s 4ms/step - loss: 7.8438 - accuracy: 0.0045\n",
            "Epoch 5/10\n",
            "1478/1478 [==============================] - 6s 4ms/step - loss: 7.8430 - accuracy: 0.0085\n",
            "Epoch 6/10\n",
            "1478/1478 [==============================] - 6s 4ms/step - loss: 7.8422 - accuracy: 0.0134\n",
            "Epoch 7/10\n",
            "1478/1478 [==============================] - 6s 4ms/step - loss: 7.8413 - accuracy: 0.0202\n",
            "Epoch 8/10\n",
            "1478/1478 [==============================] - 6s 4ms/step - loss: 7.8405 - accuracy: 0.0259\n",
            "Epoch 9/10\n",
            "1478/1478 [==============================] - 6s 4ms/step - loss: 7.8396 - accuracy: 0.0341\n",
            "Epoch 10/10\n",
            "1478/1478 [==============================] - 6s 4ms/step - loss: 7.8388 - accuracy: 0.0418\n"
          ],
          "name": "stdout"
        }
      ]
    },
    {
      "cell_type": "markdown",
      "metadata": {
        "id": "Yip30sMdF89H",
        "colab_type": "text"
      },
      "source": [
        "### Skipgram for embedding vector length 150"
      ]
    },
    {
      "cell_type": "code",
      "metadata": {
        "colab_type": "code",
        "id": "eGEHlkQ4DShO",
        "outputId": "674bcc25-6e22-497a-f73a-ce268fde81d8",
        "colab": {
          "base_uri": "https://localhost:8080/",
          "height": 595
        }
      },
      "source": [
        "# save embeddings for vectors of length 50, 150 and 300 using skipgram model\n",
        "dim = 150\n",
        "skipgram150 = skipgram_architechture(dim)\n",
        "skipgram150.summary()\n",
        "skipgram150.fit(x_skipgram, y_skipgram, batch_size=64, epochs=10)\n",
        "save_embeddings(skipgram150, 'skipgram_150')\n"
      ],
      "execution_count": 0,
      "outputs": [
        {
          "output_type": "stream",
          "text": [
            "Model: \"sequential_6\"\n",
            "_________________________________________________________________\n",
            "Layer (type)                 Output Shape              Param #   \n",
            "=================================================================\n",
            "embedding_6 (Embedding)      (None, 1, 150)            383550    \n",
            "_________________________________________________________________\n",
            "reshape_5 (Reshape)          (None, 150)               0         \n",
            "_________________________________________________________________\n",
            "dense_6 (Dense)              (None, 2557)              386107    \n",
            "=================================================================\n",
            "Total params: 769,657\n",
            "Trainable params: 769,657\n",
            "Non-trainable params: 0\n",
            "_________________________________________________________________\n",
            "Epoch 1/10\n",
            "1478/1478 [==============================] - 10s 7ms/step - loss: 7.8462 - accuracy: 3.7015e-04\n",
            "Epoch 2/10\n",
            "1478/1478 [==============================] - 10s 7ms/step - loss: 7.8453 - accuracy: 5.1821e-04\n",
            "Epoch 3/10\n",
            "1478/1478 [==============================] - 9s 6ms/step - loss: 7.8445 - accuracy: 7.6145e-04\n",
            "Epoch 4/10\n",
            "1478/1478 [==============================] - 9s 6ms/step - loss: 7.8436 - accuracy: 0.0011\n",
            "Epoch 5/10\n",
            "1478/1478 [==============================] - 9s 6ms/step - loss: 7.8428 - accuracy: 0.0019\n",
            "Epoch 6/10\n",
            "1478/1478 [==============================] - 9s 6ms/step - loss: 7.8419 - accuracy: 0.0040\n",
            "Epoch 7/10\n",
            "1478/1478 [==============================] - 9s 6ms/step - loss: 7.8410 - accuracy: 0.0062\n",
            "Epoch 8/10\n",
            "1478/1478 [==============================] - 9s 6ms/step - loss: 7.8402 - accuracy: 0.0088\n",
            "Epoch 9/10\n",
            "1478/1478 [==============================] - 9s 6ms/step - loss: 7.8393 - accuracy: 0.0159\n",
            "Epoch 10/10\n",
            "1478/1478 [==============================] - 9s 6ms/step - loss: 7.8384 - accuracy: 0.0212\n"
          ],
          "name": "stdout"
        }
      ]
    },
    {
      "cell_type": "markdown",
      "metadata": {
        "id": "9zxqAAvIFzNI",
        "colab_type": "text"
      },
      "source": [
        "### Skipgram for embedding vector length 300"
      ]
    },
    {
      "cell_type": "code",
      "metadata": {
        "id": "U0ahwbVAFOUU",
        "colab_type": "code",
        "outputId": "5323865e-a281-4efe-868b-c1d8ca8479e0",
        "colab": {
          "base_uri": "https://localhost:8080/",
          "height": 357
        }
      },
      "source": [
        "dim = 300\n",
        "skipgram300 = skipgram_architechture(dim)\n",
        "skipgram300.fit(x_skipgram, y_skipgram, batch_size=32, epochs=10)\n",
        "save_embeddings(skipgram300, 'skipgram_300')"
      ],
      "execution_count": 0,
      "outputs": [
        {
          "output_type": "stream",
          "text": [
            "Epoch 1/10\n",
            "2955/2955 [==============================] - 20s 7ms/step - loss: 7.8459 - accuracy: 3.9130e-04\n",
            "Epoch 2/10\n",
            "2955/2955 [==============================] - 20s 7ms/step - loss: 7.8444 - accuracy: 6.6627e-04\n",
            "Epoch 3/10\n",
            "2955/2955 [==============================] - 20s 7ms/step - loss: 7.8429 - accuracy: 0.0014\n",
            "Epoch 4/10\n",
            "2955/2955 [==============================] - 20s 7ms/step - loss: 7.8415 - accuracy: 0.0022\n",
            "Epoch 5/10\n",
            "2955/2955 [==============================] - 20s 7ms/step - loss: 7.8400 - accuracy: 0.0084\n",
            "Epoch 6/10\n",
            "2955/2955 [==============================] - 20s 7ms/step - loss: 7.8385 - accuracy: 0.0127\n",
            "Epoch 7/10\n",
            "2955/2955 [==============================] - 21s 7ms/step - loss: 7.8371 - accuracy: 0.0164\n",
            "Epoch 8/10\n",
            "2955/2955 [==============================] - 20s 7ms/step - loss: 7.8356 - accuracy: 0.0223\n",
            "Epoch 9/10\n",
            "2955/2955 [==============================] - 20s 7ms/step - loss: 7.8341 - accuracy: 0.0257\n",
            "Epoch 10/10\n",
            "2955/2955 [==============================] - 20s 7ms/step - loss: 7.8327 - accuracy: 0.0301\n"
          ],
          "name": "stdout"
        }
      ]
    },
    {
      "cell_type": "markdown",
      "metadata": {
        "colab_type": "text",
        "id": "b4z9Lt6pAZEw"
      },
      "source": [
        "## Task 1.2 - CBOW\n",
        "\n",
        "Build word embeddings of length 50, 150 and 300 using CBOW model."
      ]
    },
    {
      "cell_type": "code",
      "metadata": {
        "colab_type": "code",
        "id": "KMhI_sWFTXDW",
        "colab": {}
      },
      "source": [
        "# prepare data for CBOW\n",
        "\n",
        "# create training data\n",
        "\n",
        "# create CBOW architecture\n",
        "\n",
        "# train CBOW model\n",
        "\n",
        "# save embeddings for vectors of length 50, 150 and 300 using CBOW model"
      ],
      "execution_count": 0,
      "outputs": []
    },
    {
      "cell_type": "markdown",
      "metadata": {
        "id": "GZMJwlS7dETh",
        "colab_type": "text"
      },
      "source": [
        "Prepare data for CBOW\n",
        "\n"
      ]
    },
    {
      "cell_type": "code",
      "metadata": {
        "id": "DZmhahwTdR_d",
        "colab_type": "code",
        "colab": {}
      },
      "source": [
        "def generate_data_CBOW(corpus, window_size, V):\n",
        "    maxlen = window_size*2\n",
        "    all_in = []\n",
        "    all_out = [] #one real label wt\n",
        "    for line in corpus:\n",
        "        sentence_length = len(line)\n",
        "      \n",
        "        for index, word in enumerate(line):  #for each word in the line, we create a little neighborhood [left,right]\n",
        "            left = index - window_size\n",
        "            right = index + window_size + 1\n",
        "      \n",
        "            in_words = []   #neighbor words of wt, used as input to predict wt       \n",
        "      \n",
        "            for i in range(left, right):\n",
        "                if 0 <= i < sentence_length and i != index:\n",
        "                    # Add the input word\n",
        "                    in_words.append(line[i])\n",
        "\n",
        "            \n",
        "            all_in.append(in_words)\n",
        "            all_out.append(to_categorical(word,V))\n",
        "      \n",
        "    all_in = sequence.pad_sequences(all_in, maxlen=maxlen)\n",
        "                                      \n",
        "    return (np.array(all_in),np.array(all_out))"
      ],
      "execution_count": 0,
      "outputs": []
    },
    {
      "cell_type": "markdown",
      "metadata": {
        "id": "fQqNXVdPddWg",
        "colab_type": "text"
      },
      "source": [
        "Create training data"
      ]
    },
    {
      "cell_type": "code",
      "metadata": {
        "id": "28BDAMUxdh_G",
        "colab_type": "code",
        "colab": {}
      },
      "source": [
        "x , y = generate_data_CBOW(corpus,window_size,V)"
      ],
      "execution_count": 0,
      "outputs": []
    },
    {
      "cell_type": "markdown",
      "metadata": {
        "id": "Iswy4EU3gr12",
        "colab_type": "text"
      },
      "source": [
        "Create CBOW architecture"
      ]
    },
    {
      "cell_type": "code",
      "metadata": {
        "id": "du7xuYdIgw6P",
        "colab_type": "code",
        "colab": {}
      },
      "source": [
        "def cbow_architechture(dim):\n",
        "    cbow = Sequential()\n",
        "    cbow.add(Embedding(input_dim=V, output_dim=dim, embeddings_initializer='glorot_uniform', input_length=window_size*2))\n",
        "    cbow.add(Lambda(lambda x: K.mean(x, axis=1), output_shape=(dim,)))\n",
        "    cbow.add(Dense(V, kernel_initializer='glorot_uniform', activation='softmax'))\n",
        "    #multiclass classification->categorical_crossentropy loss, optimizer->PPT02 p24\n",
        "    cbow.compile(loss='categorical_crossentropy', optimizer='adadelta', metrics=['accuracy'])\n",
        "    return cbow"
      ],
      "execution_count": 0,
      "outputs": []
    },
    {
      "cell_type": "markdown",
      "metadata": {
        "id": "DNfaATp3g1Y0",
        "colab_type": "text"
      },
      "source": [
        "###CBOW for Embedding Vector Length 50"
      ]
    },
    {
      "cell_type": "markdown",
      "metadata": {
        "id": "HqtHGSsTG45-",
        "colab_type": "text"
      },
      "source": [
        "Train CBOW model - embedding vector length 50"
      ]
    },
    {
      "cell_type": "code",
      "metadata": {
        "id": "JqGNiCVyhy65",
        "colab_type": "code",
        "colab": {}
      },
      "source": [
        "# dimension of word embedding\n",
        "dim = 50\n",
        "\n",
        "cbow = cbow_architechture(dim)"
      ],
      "execution_count": 0,
      "outputs": []
    },
    {
      "cell_type": "code",
      "metadata": {
        "id": "IyZhcahTiKV2",
        "colab_type": "code",
        "colab": {}
      },
      "source": [
        "plot_model(cbow, show_shapes = True, show_layer_names=False)"
      ],
      "execution_count": 0,
      "outputs": []
    },
    {
      "cell_type": "code",
      "metadata": {
        "id": "GFiw8wiAiUo8",
        "colab_type": "code",
        "outputId": "79a65a38-4466-4237-90b2-27ad78da988f",
        "colab": {
          "base_uri": "https://localhost:8080/",
          "height": 255
        }
      },
      "source": [
        "cbow.summary()"
      ],
      "execution_count": 0,
      "outputs": [
        {
          "output_type": "stream",
          "text": [
            "Model: \"sequential_9\"\n",
            "_________________________________________________________________\n",
            "Layer (type)                 Output Shape              Param #   \n",
            "=================================================================\n",
            "embedding_9 (Embedding)      (None, 4, 50)             127850    \n",
            "_________________________________________________________________\n",
            "lambda_3 (Lambda)            (None, 50)                0         \n",
            "_________________________________________________________________\n",
            "dense_9 (Dense)              (None, 2557)              130407    \n",
            "=================================================================\n",
            "Total params: 258,257\n",
            "Trainable params: 258,257\n",
            "Non-trainable params: 0\n",
            "_________________________________________________________________\n"
          ],
          "name": "stdout"
        }
      ]
    },
    {
      "cell_type": "code",
      "metadata": {
        "id": "9qoQ_z3XiW2G",
        "colab_type": "code",
        "outputId": "827cc952-483b-402b-e39d-648b6bffe87a",
        "colab": {
          "base_uri": "https://localhost:8080/",
          "height": 374
        }
      },
      "source": [
        "# train skipgram model\n",
        "cbow.fit(x, y, batch_size=64, epochs=10, verbose=1)"
      ],
      "execution_count": 0,
      "outputs": [
        {
          "output_type": "stream",
          "text": [
            "Epoch 1/10\n",
            "425/425 [==============================] - 2s 5ms/step - loss: 7.8466 - accuracy: 5.8899e-04\n",
            "Epoch 2/10\n",
            "425/425 [==============================] - 2s 5ms/step - loss: 7.8463 - accuracy: 7.3624e-04\n",
            "Epoch 3/10\n",
            "425/425 [==============================] - 2s 5ms/step - loss: 7.8461 - accuracy: 0.0010\n",
            "Epoch 4/10\n",
            "425/425 [==============================] - 2s 5ms/step - loss: 7.8458 - accuracy: 0.0014\n",
            "Epoch 5/10\n",
            "425/425 [==============================] - 2s 5ms/step - loss: 7.8456 - accuracy: 0.0019\n",
            "Epoch 6/10\n",
            "425/425 [==============================] - 2s 5ms/step - loss: 7.8454 - accuracy: 0.0025\n",
            "Epoch 7/10\n",
            "425/425 [==============================] - 2s 4ms/step - loss: 7.8451 - accuracy: 0.0039\n",
            "Epoch 8/10\n",
            "425/425 [==============================] - 2s 4ms/step - loss: 7.8449 - accuracy: 0.0053\n",
            "Epoch 9/10\n",
            "425/425 [==============================] - 2s 4ms/step - loss: 7.8446 - accuracy: 0.0077\n",
            "Epoch 10/10\n",
            "425/425 [==============================] - 2s 4ms/step - loss: 7.8444 - accuracy: 0.0097\n"
          ],
          "name": "stdout"
        },
        {
          "output_type": "execute_result",
          "data": {
            "text/plain": [
              "<tensorflow.python.keras.callbacks.History at 0x7f327d0fdc50>"
            ]
          },
          "metadata": {
            "tags": []
          },
          "execution_count": 104
        }
      ]
    },
    {
      "cell_type": "markdown",
      "metadata": {
        "id": "1n_XLpoSizLy",
        "colab_type": "text"
      },
      "source": [
        "Save embedding"
      ]
    },
    {
      "cell_type": "code",
      "metadata": {
        "id": "DFa9ypDURn1q",
        "colab_type": "code",
        "colab": {}
      },
      "source": [
        "save_embeddings(cbow, 'cbow_{dim}'.format(dim=dim))"
      ],
      "execution_count": 0,
      "outputs": []
    },
    {
      "cell_type": "markdown",
      "metadata": {
        "id": "6hIlAEr9G_sb",
        "colab_type": "text"
      },
      "source": [
        "###CBOW for Embedding Vector Length 150"
      ]
    },
    {
      "cell_type": "markdown",
      "metadata": {
        "colab_type": "text",
        "id": "xhQJ-pOgjrp4"
      },
      "source": [
        "Train CBOW model - embedding vector length 150"
      ]
    },
    {
      "cell_type": "code",
      "metadata": {
        "id": "BVb7BxTdjoyp",
        "colab_type": "code",
        "colab": {}
      },
      "source": [
        "# dimension of word embedding\n",
        "dim = 150\n",
        "\n",
        "cbow = cbow_architechture(dim)"
      ],
      "execution_count": 0,
      "outputs": []
    },
    {
      "cell_type": "code",
      "metadata": {
        "id": "FginlQRMj4aQ",
        "colab_type": "code",
        "colab": {}
      },
      "source": [
        "plot_model(cbow, show_shapes = True, show_layer_names=False)"
      ],
      "execution_count": 0,
      "outputs": []
    },
    {
      "cell_type": "code",
      "metadata": {
        "id": "bi7D2JxNj7qX",
        "colab_type": "code",
        "outputId": "0ed9a763-8651-4a7e-d5ec-165efcfcd799",
        "colab": {
          "base_uri": "https://localhost:8080/",
          "height": 255
        }
      },
      "source": [
        "cbow.summary()"
      ],
      "execution_count": 0,
      "outputs": [
        {
          "output_type": "stream",
          "text": [
            "Model: \"sequential_7\"\n",
            "_________________________________________________________________\n",
            "Layer (type)                 Output Shape              Param #   \n",
            "=================================================================\n",
            "embedding_7 (Embedding)      (None, 4, 150)            383550    \n",
            "_________________________________________________________________\n",
            "lambda_1 (Lambda)            (None, 150)               0         \n",
            "_________________________________________________________________\n",
            "dense_7 (Dense)              (None, 2557)              386107    \n",
            "=================================================================\n",
            "Total params: 769,657\n",
            "Trainable params: 769,657\n",
            "Non-trainable params: 0\n",
            "_________________________________________________________________\n"
          ],
          "name": "stdout"
        }
      ]
    },
    {
      "cell_type": "code",
      "metadata": {
        "id": "19djsLqij_dq",
        "colab_type": "code",
        "outputId": "5709e7d6-0eb0-4d02-81f6-6986a4252576",
        "colab": {
          "base_uri": "https://localhost:8080/",
          "height": 374
        }
      },
      "source": [
        "# train skipgram model\n",
        "cbow.fit(x, y, batch_size=64, epochs=10, verbose=1)"
      ],
      "execution_count": 0,
      "outputs": [
        {
          "output_type": "stream",
          "text": [
            "Epoch 1/10\n",
            "425/425 [==============================] - 3s 6ms/step - loss: 7.8466 - accuracy: 4.4174e-04\n",
            "Epoch 2/10\n",
            "425/425 [==============================] - 3s 6ms/step - loss: 7.8463 - accuracy: 4.7856e-04\n",
            "Epoch 3/10\n",
            "425/425 [==============================] - 3s 6ms/step - loss: 7.8460 - accuracy: 5.5218e-04\n",
            "Epoch 4/10\n",
            "425/425 [==============================] - 3s 6ms/step - loss: 7.8458 - accuracy: 8.0987e-04\n",
            "Epoch 5/10\n",
            "425/425 [==============================] - 3s 6ms/step - loss: 7.8455 - accuracy: 9.9393e-04\n",
            "Epoch 6/10\n",
            "425/425 [==============================] - 3s 6ms/step - loss: 7.8453 - accuracy: 0.0015\n",
            "Epoch 7/10\n",
            "425/425 [==============================] - 3s 6ms/step - loss: 7.8450 - accuracy: 0.0020\n",
            "Epoch 8/10\n",
            "425/425 [==============================] - 3s 6ms/step - loss: 7.8448 - accuracy: 0.0024\n",
            "Epoch 9/10\n",
            "425/425 [==============================] - 3s 6ms/step - loss: 7.8445 - accuracy: 0.0034\n",
            "Epoch 10/10\n",
            "425/425 [==============================] - 3s 6ms/step - loss: 7.8443 - accuracy: 0.0045\n"
          ],
          "name": "stdout"
        },
        {
          "output_type": "execute_result",
          "data": {
            "text/plain": [
              "<tensorflow.python.keras.callbacks.History at 0x7f327d2a2a58>"
            ]
          },
          "metadata": {
            "tags": []
          },
          "execution_count": 93
        }
      ]
    },
    {
      "cell_type": "markdown",
      "metadata": {
        "id": "snC7VXXHj2nO",
        "colab_type": "text"
      },
      "source": [
        "Save embedding"
      ]
    },
    {
      "cell_type": "code",
      "metadata": {
        "id": "xGpTElB1kHh7",
        "colab_type": "code",
        "colab": {}
      },
      "source": [
        "save_embeddings(cbow, 'cbow_{dim}'.format(dim=dim))"
      ],
      "execution_count": 0,
      "outputs": []
    },
    {
      "cell_type": "markdown",
      "metadata": {
        "id": "PiVIWzmDHG9t",
        "colab_type": "text"
      },
      "source": [
        "###CBOW for Embedding Vector Length 300"
      ]
    },
    {
      "cell_type": "markdown",
      "metadata": {
        "colab_type": "text",
        "id": "vVnwNWvpkPNd"
      },
      "source": [
        "Train CBOW model - embedding vector length 300"
      ]
    },
    {
      "cell_type": "code",
      "metadata": {
        "id": "tqJZJ7oGkRNN",
        "colab_type": "code",
        "colab": {}
      },
      "source": [
        "# dimension of word embedding\n",
        "dim = 300\n",
        "\n",
        "cbow = cbow_architechture(dim)"
      ],
      "execution_count": 0,
      "outputs": []
    },
    {
      "cell_type": "code",
      "metadata": {
        "id": "-UXwCXe9oM1A",
        "colab_type": "code",
        "colab": {}
      },
      "source": [
        "plot_model(cbow, show_shapes = True, show_layer_names=False)"
      ],
      "execution_count": 0,
      "outputs": []
    },
    {
      "cell_type": "code",
      "metadata": {
        "id": "D5uo15a5oR9N",
        "colab_type": "code",
        "colab": {}
      },
      "source": [
        "cbow.summary()"
      ],
      "execution_count": 0,
      "outputs": []
    },
    {
      "cell_type": "code",
      "metadata": {
        "id": "JVRh42vmoUmP",
        "colab_type": "code",
        "outputId": "98fcec3d-0c1c-4cf8-e866-d8c065c7c5d2",
        "colab": {
          "base_uri": "https://localhost:8080/",
          "height": 374
        }
      },
      "source": [
        "# train skipgram model\n",
        "cbow.fit(x, y, batch_size=64, epochs=10, verbose=1)"
      ],
      "execution_count": 0,
      "outputs": [
        {
          "output_type": "stream",
          "text": [
            "Epoch 1/10\n",
            "425/425 [==============================] - 4s 9ms/step - loss: 7.8462 - accuracy: 4.4174e-04\n",
            "Epoch 2/10\n",
            "425/425 [==============================] - 4s 9ms/step - loss: 7.8459 - accuracy: 5.5218e-04\n",
            "Epoch 3/10\n",
            "425/425 [==============================] - 4s 9ms/step - loss: 7.8456 - accuracy: 8.4668e-04\n",
            "Epoch 4/10\n",
            "425/425 [==============================] - 4s 9ms/step - loss: 7.8453 - accuracy: 0.0012\n",
            "Epoch 5/10\n",
            "425/425 [==============================] - 4s 9ms/step - loss: 7.8451 - accuracy: 0.0015\n",
            "Epoch 6/10\n",
            "425/425 [==============================] - 4s 9ms/step - loss: 7.8448 - accuracy: 0.0018\n",
            "Epoch 7/10\n",
            "425/425 [==============================] - 4s 9ms/step - loss: 7.8445 - accuracy: 0.0024\n",
            "Epoch 8/10\n",
            "425/425 [==============================] - 4s 9ms/step - loss: 7.8442 - accuracy: 0.0034\n",
            "Epoch 9/10\n",
            "425/425 [==============================] - 4s 9ms/step - loss: 7.8440 - accuracy: 0.0048\n",
            "Epoch 10/10\n",
            "425/425 [==============================] - 4s 9ms/step - loss: 7.8437 - accuracy: 0.0059\n"
          ],
          "name": "stdout"
        },
        {
          "output_type": "execute_result",
          "data": {
            "text/plain": [
              "<tensorflow.python.keras.callbacks.History at 0x7f327d1ac438>"
            ]
          },
          "metadata": {
            "tags": []
          },
          "execution_count": 98
        }
      ]
    },
    {
      "cell_type": "markdown",
      "metadata": {
        "id": "EuCa4_ILoX1K",
        "colab_type": "text"
      },
      "source": [
        "Save embedding"
      ]
    },
    {
      "cell_type": "code",
      "metadata": {
        "id": "hGM8z6adGoE5",
        "colab_type": "code",
        "colab": {}
      },
      "source": [
        "save_embeddings(cbow, 'cbow_{dim}'.format(dim=dim))"
      ],
      "execution_count": 0,
      "outputs": []
    },
    {
      "cell_type": "markdown",
      "metadata": {
        "colab_type": "text",
        "id": "rr2BAI4nAfnG"
      },
      "source": [
        "## Task 1.3 - Analogy function\n",
        "\n",
        "Implement your own function to perform the analogy task (see [1] for concrete examples). Use the same distance metric as in [1]. Do not use existing libraries for this task such as Gensim. Your function should be able to answer whether an analogy like: \"a king is to a queen as a man is to a woman\" ($e_{king} - e_{queen} + e_{woman} \\approx e_{man}$) is true. \n",
        "\n",
        "In a perfect scenario, we would like that this analogy ( $e_{king} - e_{queen} + e_{woman}$) results in the embedding of the word \"man\". However, it does not always result in exactly the same word embedding. The result of the formula is called the expected or the predicted word embedding. In this context, \"man\" is called the true or the actual word $t$. We want to find the word $p$ in the vocabulary, where the embedding of $p$ ($e_p$) is the closest to the predicted embedding (i.e. result of the formula). Then, we can check if $p$ is the same word as the true word $t$.  \n",
        "\n",
        "You have to answer an analogy function using each embedding for both CBOW and Skipgram model. This means that for each analogy we have 6 outputs. Show the true word (with distance similarity value between predicted embedding and true word embedding, i.e. `sim1`) , the predicted word (with distance similarity value between predicted embedding and the embedding of the word in the vocabulary that is closest to this predicted embedding, i.e. `sim2`) and a boolean answer whether the predicted word **exactly** equals the true word. \n",
        "\n",
        "<b>HINT</b>: to visualize the results of the analogy tasks , you can print them in a table. An example is given below.\n",
        "\n",
        "\n",
        "| Analogy task | True word (sim1)  | Predicted word (sim2) | Embedding | Correct?|\n",
        "|------|------|------|------|------|\n",
        "|  queen is to king as woman is to ?\t | man (sim1) | predictd_word(sim2) | SG_50 | True / False|\n",
        "\n",
        "* Give at least 5 different  examples of analogies.\n",
        "* Compare the performance on the analogy s between the word embeddings and briefly discuss your results."
      ]
    },
    {
      "cell_type": "code",
      "metadata": {
        "id": "8rALd-jzJgs8",
        "colab_type": "code",
        "colab": {}
      },
      "source": [
        "def embed(word, embedding, vocab_size=V, tokenizer=tokenizer):\n",
        "  int_word = tokenizer.texts_to_sequences([word])[0]\n",
        "  bin_word = to_categorical(int_word, V)\n",
        "  return np.dot(bin_word, embedding)"
      ],
      "execution_count": 0,
      "outputs": []
    },
    {
      "cell_type": "code",
      "metadata": {
        "id": "ZAdMZSW7tJfQ",
        "colab_type": "code",
        "colab": {}
      },
      "source": [
        "def closest_word(predicted_embedding, word1_embedding, word2_embedding, word3_embedding, embedding):\n",
        "  exclude_words = [predicted_embedding, word1_embedding, word2_embedding, word3_embedding]\n",
        "  exclude_index = []\n",
        "  for i in range(V):\n",
        "    for j in exclude_words:\n",
        "      if np.array_equal(j, embedding[[i]]):\n",
        "        exclude_index.append(i)\n",
        "\n",
        "  include_index = [x for x in range(V) if x not in exclude_index]\n",
        "\n",
        "  least_dist = 100\n",
        "  index = 0\n",
        "  for i in include_index:  \n",
        "    each_word = embedding[[i]]\n",
        "    dist = cosine_similarity(predicted_embedding, each_word)   #sim1\n",
        "    if dist < least_dist:\n",
        "      least_dist = dist\n",
        "      index = i\n",
        "  \n",
        "  mylist = list((tokenizer.word_index.items()))\n",
        "\n",
        "  closest_word = [item[0] for item in mylist if item[1] == index]\n",
        "  # print(least_dist)\n",
        "  # print(least_dist[0][0])\n",
        "  # print(closest_word)\n",
        "  return least_dist[0][0], closest_word[0]"
      ],
      "execution_count": 0,
      "outputs": []
    },
    {
      "cell_type": "code",
      "metadata": {
        "id": "z3F4TwToLPjk",
        "colab_type": "code",
        "colab": {}
      },
      "source": [
        "def analogy(word1, word2, word3, true_word):\n",
        "\n",
        "  analogy = word2 + ' is to ' + word1 + ' as ' + word3 + ' is to?'\n",
        "  df = pd.DataFrame(columns=['Analogy task', 'True word(sim1)', 'Predicted word(sim2)', 'Embedding', 'Correct?'])\n",
        "  models = ['new_skipgram_50', 'new_skipgram_150', 'new_skipgram_300', 'new_cbow_50', 'new_cbow_150', 'new_cbow_300']\n",
        "\n",
        "  dummy = []\n",
        "  for i, model in enumerate(models):\n",
        "    embedding = np.loadtxt(model + '.txt')\n",
        "    \n",
        "    word1_embedding = embed(word1, embedding)\n",
        "    word2_embedding = embed(word2, embedding)\n",
        "    word3_embedding = embed(word3, embedding)\n",
        "    predicted_embedding = word1_embedding - word2_embedding + word3_embedding\n",
        "\n",
        "    sim1 = cosine_similarity(predicted_embedding, embed(true_word, embedding))   #sim1 with true word\n",
        "\n",
        "    pair = closest_word(predicted_embedding, word1_embedding, word2_embedding, word3_embedding, embedding)\n",
        "    \n",
        "    predicted_word = pair[1]\n",
        "    sim2 = pair[0]\n",
        "    \n",
        "    \n",
        "    sim1 = sim1[0][0]\n",
        "    sim1 = '({val})'.format(val=sim1)\n",
        "    t_word = true_word + sim1\n",
        "    \n",
        "    \n",
        "    sim2 = '({val})'.format(val=sim2)\n",
        "    p_word = predicted_word + sim2\n",
        "\n",
        "    df.loc[i] = [analogy] + [t_word] + [p_word] + [model] + [true_word == predicted_word]\n",
        "\n",
        "  return df"
      ],
      "execution_count": 0,
      "outputs": []
    },
    {
      "cell_type": "code",
      "metadata": {
        "id": "-uoXEYoFwgtK",
        "colab_type": "code",
        "outputId": "0650a5f2-1694-4bd8-91ab-c3300c3d7ad0",
        "colab": {
          "base_uri": "https://localhost:8080/",
          "height": 235
        }
      },
      "source": [
        "analogy('king', 'queen', 'woman', 'man')"
      ],
      "execution_count": 0,
      "outputs": [
        {
          "output_type": "execute_result",
          "data": {
            "text/html": [
              "<div>\n",
              "<style scoped>\n",
              "    .dataframe tbody tr th:only-of-type {\n",
              "        vertical-align: middle;\n",
              "    }\n",
              "\n",
              "    .dataframe tbody tr th {\n",
              "        vertical-align: top;\n",
              "    }\n",
              "\n",
              "    .dataframe thead th {\n",
              "        text-align: right;\n",
              "    }\n",
              "</style>\n",
              "<table border=\"1\" class=\"dataframe\">\n",
              "  <thead>\n",
              "    <tr style=\"text-align: right;\">\n",
              "      <th></th>\n",
              "      <th>Analogy task</th>\n",
              "      <th>True word(sim1)</th>\n",
              "      <th>Predicted word(sim2)</th>\n",
              "      <th>Embedding</th>\n",
              "      <th>Correct?</th>\n",
              "    </tr>\n",
              "  </thead>\n",
              "  <tbody>\n",
              "    <tr>\n",
              "      <th>0</th>\n",
              "      <td>queen is to king as woman is to?</td>\n",
              "      <td>man(0.2747060761868735)</td>\n",
              "      <td>queen(-0.5592496528167128)</td>\n",
              "      <td>new_skipgram_50</td>\n",
              "      <td>False</td>\n",
              "    </tr>\n",
              "    <tr>\n",
              "      <th>1</th>\n",
              "      <td>queen is to king as woman is to?</td>\n",
              "      <td>man(0.05237085339528883)</td>\n",
              "      <td>queen(-0.5927744824086532)</td>\n",
              "      <td>new_skipgram_150</td>\n",
              "      <td>False</td>\n",
              "    </tr>\n",
              "    <tr>\n",
              "      <th>2</th>\n",
              "      <td>queen is to king as woman is to?</td>\n",
              "      <td>man(0.15938018568449355)</td>\n",
              "      <td>queen(-0.5980089172111602)</td>\n",
              "      <td>new_skipgram_300</td>\n",
              "      <td>False</td>\n",
              "    </tr>\n",
              "    <tr>\n",
              "      <th>3</th>\n",
              "      <td>queen is to king as woman is to?</td>\n",
              "      <td>man(-0.055001982580041756)</td>\n",
              "      <td>queen(-0.6710604283091975)</td>\n",
              "      <td>new_cbow_50</td>\n",
              "      <td>False</td>\n",
              "    </tr>\n",
              "    <tr>\n",
              "      <th>4</th>\n",
              "      <td>queen is to king as woman is to?</td>\n",
              "      <td>man(0.031227230356360748)</td>\n",
              "      <td>queen(-0.5427524069270854)</td>\n",
              "      <td>new_cbow_150</td>\n",
              "      <td>False</td>\n",
              "    </tr>\n",
              "    <tr>\n",
              "      <th>5</th>\n",
              "      <td>queen is to king as woman is to?</td>\n",
              "      <td>man(-0.051832731540045016)</td>\n",
              "      <td>queen(-0.6032603772060192)</td>\n",
              "      <td>new_cbow_300</td>\n",
              "      <td>False</td>\n",
              "    </tr>\n",
              "  </tbody>\n",
              "</table>\n",
              "</div>"
            ],
            "text/plain": [
              "                       Analogy task  ... Correct?\n",
              "0  queen is to king as woman is to?  ...    False\n",
              "1  queen is to king as woman is to?  ...    False\n",
              "2  queen is to king as woman is to?  ...    False\n",
              "3  queen is to king as woman is to?  ...    False\n",
              "4  queen is to king as woman is to?  ...    False\n",
              "5  queen is to king as woman is to?  ...    False\n",
              "\n",
              "[6 rows x 5 columns]"
            ]
          },
          "metadata": {
            "tags": []
          },
          "execution_count": 136
        }
      ]
    },
    {
      "cell_type": "code",
      "metadata": {
        "id": "5Qh1BrvlTYhV",
        "colab_type": "code",
        "colab": {}
      },
      "source": [
        "analogy('queen', 'king', 'man', 'woman')"
      ],
      "execution_count": 0,
      "outputs": []
    },
    {
      "cell_type": "code",
      "metadata": {
        "id": "2w6b0OMgV7FL",
        "colab_type": "code",
        "outputId": "11e1a7ac-87d2-477b-ec74-a0c401c24a6d",
        "colab": {
          "base_uri": "https://localhost:8080/",
          "height": 235
        }
      },
      "source": [
        "# french to France as english to England\n",
        "analogy('France', 'french', 'english', 'England')"
      ],
      "execution_count": 0,
      "outputs": [
        {
          "output_type": "execute_result",
          "data": {
            "text/html": [
              "<div>\n",
              "<style scoped>\n",
              "    .dataframe tbody tr th:only-of-type {\n",
              "        vertical-align: middle;\n",
              "    }\n",
              "\n",
              "    .dataframe tbody tr th {\n",
              "        vertical-align: top;\n",
              "    }\n",
              "\n",
              "    .dataframe thead th {\n",
              "        text-align: right;\n",
              "    }\n",
              "</style>\n",
              "<table border=\"1\" class=\"dataframe\">\n",
              "  <thead>\n",
              "    <tr style=\"text-align: right;\">\n",
              "      <th></th>\n",
              "      <th>Analogy task</th>\n",
              "      <th>True word(sim1)</th>\n",
              "      <th>Predicted word(sim2)</th>\n",
              "      <th>Embedding</th>\n",
              "      <th>Correct?</th>\n",
              "    </tr>\n",
              "  </thead>\n",
              "  <tbody>\n",
              "    <tr>\n",
              "      <th>0</th>\n",
              "      <td>french is to France as english is to?</td>\n",
              "      <td>England(0.08279263423405725)</td>\n",
              "      <td>french(-0.6693843552112426)</td>\n",
              "      <td>new_skipgram_50</td>\n",
              "      <td>False</td>\n",
              "    </tr>\n",
              "    <tr>\n",
              "      <th>1</th>\n",
              "      <td>french is to France as english is to?</td>\n",
              "      <td>England(0.009157961838430621)</td>\n",
              "      <td>french(-0.5981663589861066)</td>\n",
              "      <td>new_skipgram_150</td>\n",
              "      <td>False</td>\n",
              "    </tr>\n",
              "    <tr>\n",
              "      <th>2</th>\n",
              "      <td>french is to France as english is to?</td>\n",
              "      <td>England(-0.01861583430674554)</td>\n",
              "      <td>french(-0.6088745577873178)</td>\n",
              "      <td>new_skipgram_300</td>\n",
              "      <td>False</td>\n",
              "    </tr>\n",
              "    <tr>\n",
              "      <th>3</th>\n",
              "      <td>french is to France as english is to?</td>\n",
              "      <td>England(-0.04824368199079679)</td>\n",
              "      <td>french(-0.5487317953851769)</td>\n",
              "      <td>new_cbow_50</td>\n",
              "      <td>False</td>\n",
              "    </tr>\n",
              "    <tr>\n",
              "      <th>4</th>\n",
              "      <td>french is to France as english is to?</td>\n",
              "      <td>England(0.09603147874021359)</td>\n",
              "      <td>french(-0.642151561116852)</td>\n",
              "      <td>new_cbow_150</td>\n",
              "      <td>False</td>\n",
              "    </tr>\n",
              "    <tr>\n",
              "      <th>5</th>\n",
              "      <td>french is to France as english is to?</td>\n",
              "      <td>England(0.04251441444706375)</td>\n",
              "      <td>french(-0.5914307670094049)</td>\n",
              "      <td>new_cbow_300</td>\n",
              "      <td>False</td>\n",
              "    </tr>\n",
              "  </tbody>\n",
              "</table>\n",
              "</div>"
            ],
            "text/plain": [
              "                            Analogy task  ... Correct?\n",
              "0  french is to France as english is to?  ...    False\n",
              "1  french is to France as english is to?  ...    False\n",
              "2  french is to France as english is to?  ...    False\n",
              "3  french is to France as english is to?  ...    False\n",
              "4  french is to France as english is to?  ...    False\n",
              "5  french is to France as english is to?  ...    False\n",
              "\n",
              "[6 rows x 5 columns]"
            ]
          },
          "metadata": {
            "tags": []
          },
          "execution_count": 137
        }
      ]
    },
    {
      "cell_type": "code",
      "metadata": {
        "id": "unC4xOwyWdvf",
        "colab_type": "code",
        "outputId": "b3e35b1d-c45a-4b7f-d190-84e252de422c",
        "colab": {
          "base_uri": "https://localhost:8080/",
          "height": 235
        }
      },
      "source": [
        "# forget to forgetting as remember to remembering\n",
        "analogy('forgetting', 'forget', 'remember', 'remembering')"
      ],
      "execution_count": 0,
      "outputs": [
        {
          "output_type": "execute_result",
          "data": {
            "text/html": [
              "<div>\n",
              "<style scoped>\n",
              "    .dataframe tbody tr th:only-of-type {\n",
              "        vertical-align: middle;\n",
              "    }\n",
              "\n",
              "    .dataframe tbody tr th {\n",
              "        vertical-align: top;\n",
              "    }\n",
              "\n",
              "    .dataframe thead th {\n",
              "        text-align: right;\n",
              "    }\n",
              "</style>\n",
              "<table border=\"1\" class=\"dataframe\">\n",
              "  <thead>\n",
              "    <tr style=\"text-align: right;\">\n",
              "      <th></th>\n",
              "      <th>Analogy task</th>\n",
              "      <th>True word(sim1)</th>\n",
              "      <th>Predicted word(sim2)</th>\n",
              "      <th>Embedding</th>\n",
              "      <th>Correct?</th>\n",
              "    </tr>\n",
              "  </thead>\n",
              "  <tbody>\n",
              "    <tr>\n",
              "      <th>0</th>\n",
              "      <td>forget is to forgetting as remember is to?</td>\n",
              "      <td>remembering(-0.09913164603413827)</td>\n",
              "      <td>forget(-0.63004217355726)</td>\n",
              "      <td>new_skipgram_50</td>\n",
              "      <td>False</td>\n",
              "    </tr>\n",
              "    <tr>\n",
              "      <th>1</th>\n",
              "      <td>forget is to forgetting as remember is to?</td>\n",
              "      <td>remembering(0.06814089575104072)</td>\n",
              "      <td>forget(-0.5858552609108054)</td>\n",
              "      <td>new_skipgram_150</td>\n",
              "      <td>False</td>\n",
              "    </tr>\n",
              "    <tr>\n",
              "      <th>2</th>\n",
              "      <td>forget is to forgetting as remember is to?</td>\n",
              "      <td>remembering(0.00846696534670178)</td>\n",
              "      <td>forget(-0.5476451758806965)</td>\n",
              "      <td>new_skipgram_300</td>\n",
              "      <td>False</td>\n",
              "    </tr>\n",
              "    <tr>\n",
              "      <th>3</th>\n",
              "      <td>forget is to forgetting as remember is to?</td>\n",
              "      <td>remembering(-0.08196106961549045)</td>\n",
              "      <td>forget(-0.48945280895908233)</td>\n",
              "      <td>new_cbow_50</td>\n",
              "      <td>False</td>\n",
              "    </tr>\n",
              "    <tr>\n",
              "      <th>4</th>\n",
              "      <td>forget is to forgetting as remember is to?</td>\n",
              "      <td>remembering(0.10967445606168344)</td>\n",
              "      <td>forget(-0.6326756453634083)</td>\n",
              "      <td>new_cbow_150</td>\n",
              "      <td>False</td>\n",
              "    </tr>\n",
              "    <tr>\n",
              "      <th>5</th>\n",
              "      <td>forget is to forgetting as remember is to?</td>\n",
              "      <td>remembering(0.010956263793287627)</td>\n",
              "      <td>forget(-0.6004864519587253)</td>\n",
              "      <td>new_cbow_300</td>\n",
              "      <td>False</td>\n",
              "    </tr>\n",
              "  </tbody>\n",
              "</table>\n",
              "</div>"
            ],
            "text/plain": [
              "                                 Analogy task  ... Correct?\n",
              "0  forget is to forgetting as remember is to?  ...    False\n",
              "1  forget is to forgetting as remember is to?  ...    False\n",
              "2  forget is to forgetting as remember is to?  ...    False\n",
              "3  forget is to forgetting as remember is to?  ...    False\n",
              "4  forget is to forgetting as remember is to?  ...    False\n",
              "5  forget is to forgetting as remember is to?  ...    False\n",
              "\n",
              "[6 rows x 5 columns]"
            ]
          },
          "metadata": {
            "tags": []
          },
          "execution_count": 138
        }
      ]
    },
    {
      "cell_type": "code",
      "metadata": {
        "id": "s-czespTWuMX",
        "colab_type": "code",
        "outputId": "344b8dcd-815b-407c-c762-cf551a2cefe2",
        "colab": {
          "base_uri": "https://localhost:8080/",
          "height": 235
        }
      },
      "source": [
        "# hand is to leg as to eye is to ear\n",
        "analogy('knee', 'hand', 'eye', 'ear')"
      ],
      "execution_count": 0,
      "outputs": [
        {
          "output_type": "execute_result",
          "data": {
            "text/html": [
              "<div>\n",
              "<style scoped>\n",
              "    .dataframe tbody tr th:only-of-type {\n",
              "        vertical-align: middle;\n",
              "    }\n",
              "\n",
              "    .dataframe tbody tr th {\n",
              "        vertical-align: top;\n",
              "    }\n",
              "\n",
              "    .dataframe thead th {\n",
              "        text-align: right;\n",
              "    }\n",
              "</style>\n",
              "<table border=\"1\" class=\"dataframe\">\n",
              "  <thead>\n",
              "    <tr style=\"text-align: right;\">\n",
              "      <th></th>\n",
              "      <th>Analogy task</th>\n",
              "      <th>True word(sim1)</th>\n",
              "      <th>Predicted word(sim2)</th>\n",
              "      <th>Embedding</th>\n",
              "      <th>Correct?</th>\n",
              "    </tr>\n",
              "  </thead>\n",
              "  <tbody>\n",
              "    <tr>\n",
              "      <th>0</th>\n",
              "      <td>hand is to knee as eye is to?</td>\n",
              "      <td>ear(0.07856195492322865)</td>\n",
              "      <td>hand(-0.6364739407157209)</td>\n",
              "      <td>new_skipgram_50</td>\n",
              "      <td>False</td>\n",
              "    </tr>\n",
              "    <tr>\n",
              "      <th>1</th>\n",
              "      <td>hand is to knee as eye is to?</td>\n",
              "      <td>ear(0.10454801314273748)</td>\n",
              "      <td>hand(-0.560377020895489)</td>\n",
              "      <td>new_skipgram_150</td>\n",
              "      <td>False</td>\n",
              "    </tr>\n",
              "    <tr>\n",
              "      <th>2</th>\n",
              "      <td>hand is to knee as eye is to?</td>\n",
              "      <td>ear(0.13524304998920325)</td>\n",
              "      <td>hand(-0.5646968284127875)</td>\n",
              "      <td>new_skipgram_300</td>\n",
              "      <td>False</td>\n",
              "    </tr>\n",
              "    <tr>\n",
              "      <th>3</th>\n",
              "      <td>hand is to knee as eye is to?</td>\n",
              "      <td>ear(-0.1262367489371579)</td>\n",
              "      <td>hand(-0.6293025006874384)</td>\n",
              "      <td>new_cbow_50</td>\n",
              "      <td>False</td>\n",
              "    </tr>\n",
              "    <tr>\n",
              "      <th>4</th>\n",
              "      <td>hand is to knee as eye is to?</td>\n",
              "      <td>ear(-0.04453138474756916)</td>\n",
              "      <td>hand(-0.4689737211157392)</td>\n",
              "      <td>new_cbow_150</td>\n",
              "      <td>False</td>\n",
              "    </tr>\n",
              "    <tr>\n",
              "      <th>5</th>\n",
              "      <td>hand is to knee as eye is to?</td>\n",
              "      <td>ear(-0.02741340576249722)</td>\n",
              "      <td>hand(-0.5776903747829307)</td>\n",
              "      <td>new_cbow_300</td>\n",
              "      <td>False</td>\n",
              "    </tr>\n",
              "  </tbody>\n",
              "</table>\n",
              "</div>"
            ],
            "text/plain": [
              "                    Analogy task  ... Correct?\n",
              "0  hand is to knee as eye is to?  ...    False\n",
              "1  hand is to knee as eye is to?  ...    False\n",
              "2  hand is to knee as eye is to?  ...    False\n",
              "3  hand is to knee as eye is to?  ...    False\n",
              "4  hand is to knee as eye is to?  ...    False\n",
              "5  hand is to knee as eye is to?  ...    False\n",
              "\n",
              "[6 rows x 5 columns]"
            ]
          },
          "metadata": {
            "tags": []
          },
          "execution_count": 142
        }
      ]
    },
    {
      "cell_type": "code",
      "metadata": {
        "id": "D8h4tA--XFPy",
        "colab_type": "code",
        "outputId": "c86f4305-c1fa-4069-9ae2-81eff39bb8a6",
        "colab": {
          "base_uri": "https://localhost:8080/",
          "height": 235
        }
      },
      "source": [
        "# he is to his as to she is to hers\n",
        "analogy('his', 'he', 'she', 'hers')"
      ],
      "execution_count": 0,
      "outputs": [
        {
          "output_type": "execute_result",
          "data": {
            "text/html": [
              "<div>\n",
              "<style scoped>\n",
              "    .dataframe tbody tr th:only-of-type {\n",
              "        vertical-align: middle;\n",
              "    }\n",
              "\n",
              "    .dataframe tbody tr th {\n",
              "        vertical-align: top;\n",
              "    }\n",
              "\n",
              "    .dataframe thead th {\n",
              "        text-align: right;\n",
              "    }\n",
              "</style>\n",
              "<table border=\"1\" class=\"dataframe\">\n",
              "  <thead>\n",
              "    <tr style=\"text-align: right;\">\n",
              "      <th></th>\n",
              "      <th>Analogy task</th>\n",
              "      <th>True word(sim1)</th>\n",
              "      <th>Predicted word(sim2)</th>\n",
              "      <th>Embedding</th>\n",
              "      <th>Correct?</th>\n",
              "    </tr>\n",
              "  </thead>\n",
              "  <tbody>\n",
              "    <tr>\n",
              "      <th>0</th>\n",
              "      <td>he is to his as she is to?</td>\n",
              "      <td>hers(0.09090712414425002)</td>\n",
              "      <td>he(-0.6955926401938365)</td>\n",
              "      <td>new_skipgram_50</td>\n",
              "      <td>False</td>\n",
              "    </tr>\n",
              "    <tr>\n",
              "      <th>1</th>\n",
              "      <td>he is to his as she is to?</td>\n",
              "      <td>hers(-0.046475233908444616)</td>\n",
              "      <td>he(-0.5327758107042652)</td>\n",
              "      <td>new_skipgram_150</td>\n",
              "      <td>False</td>\n",
              "    </tr>\n",
              "    <tr>\n",
              "      <th>2</th>\n",
              "      <td>he is to his as she is to?</td>\n",
              "      <td>hers(0.055003344127433546)</td>\n",
              "      <td>he(-0.5959035526824187)</td>\n",
              "      <td>new_skipgram_300</td>\n",
              "      <td>False</td>\n",
              "    </tr>\n",
              "    <tr>\n",
              "      <th>3</th>\n",
              "      <td>he is to his as she is to?</td>\n",
              "      <td>hers(0.05011060097141224)</td>\n",
              "      <td>he(-0.6275309193846385)</td>\n",
              "      <td>new_cbow_50</td>\n",
              "      <td>False</td>\n",
              "    </tr>\n",
              "    <tr>\n",
              "      <th>4</th>\n",
              "      <td>he is to his as she is to?</td>\n",
              "      <td>hers(-0.03526094842189002)</td>\n",
              "      <td>he(-0.507630360235748)</td>\n",
              "      <td>new_cbow_150</td>\n",
              "      <td>False</td>\n",
              "    </tr>\n",
              "    <tr>\n",
              "      <th>5</th>\n",
              "      <td>he is to his as she is to?</td>\n",
              "      <td>hers(-0.09557704132506899)</td>\n",
              "      <td>he(-0.6285328148032823)</td>\n",
              "      <td>new_cbow_300</td>\n",
              "      <td>False</td>\n",
              "    </tr>\n",
              "  </tbody>\n",
              "</table>\n",
              "</div>"
            ],
            "text/plain": [
              "                 Analogy task  ... Correct?\n",
              "0  he is to his as she is to?  ...    False\n",
              "1  he is to his as she is to?  ...    False\n",
              "2  he is to his as she is to?  ...    False\n",
              "3  he is to his as she is to?  ...    False\n",
              "4  he is to his as she is to?  ...    False\n",
              "5  he is to his as she is to?  ...    False\n",
              "\n",
              "[6 rows x 5 columns]"
            ]
          },
          "metadata": {
            "tags": []
          },
          "execution_count": 143
        }
      ]
    },
    {
      "cell_type": "code",
      "metadata": {
        "id": "1Q7ErHY7UB2L",
        "colab_type": "code",
        "colab": {}
      },
      "source": [
        "analogy('he', 'his', 'hers', 'she')"
      ],
      "execution_count": 0,
      "outputs": []
    },
    {
      "cell_type": "markdown",
      "metadata": {
        "colab_type": "text",
        "id": "5h-OWIF9AsKH"
      },
      "source": [
        "## Task 1.4 - Discussion\n",
        "Answer the following question:\n",
        "* Given the same number of sentences as input, CBOW and Skipgram arrange the data into different number of training samples. Which one has more and why?\n"
      ]
    },
    {
      "cell_type": "markdown",
      "metadata": {
        "id": "0ssKUZlOBNY9",
        "colab_type": "text"
      },
      "source": [
        "Answer:\n",
        "\n",
        "Given a sentence of n unique words, and a window size of 2L for training. Skipgram will arrage 2L pairs of training samples for each word; therefore, Skipgram has 2nL training samples in total. On the other hand, CBOW uses the context words in the window differently. CBOW combines all 2L context words in the window into one traing sample; thus, CBOW has n training samples in total. The conclusion is that Skipgram has more training samples due to the way it pairs up each word with each of its context words in the window."
      ]
    },
    {
      "cell_type": "markdown",
      "metadata": {
        "colab_type": "text",
        "id": "mOa7EXhD-saI"
      },
      "source": [
        "# Question 2 - Peer review (0 pt):\n",
        "Finally, each group member must write a single paragraph outlining their opinion on the work distribution within the group. Did every group member\n",
        "contribute equally? Did you split up tasks in a fair manner, or jointly worked through the exercises. Do you think that some members of your group deserve a different grade from others? You can use the table below to make an overview of how the tasks were divided:\n",
        "\n"
      ]
    },
    {
      "cell_type": "markdown",
      "metadata": {
        "colab_type": "text",
        "id": "RWdcoJH__MqP"
      },
      "source": [
        "| Student name | Task  |\n",
        "|------|------|\n",
        "|  student name 1  | task x |\n",
        "| student name 2  | task x|\n",
        "| everyone | task x|\n"
      ]
    },
    {
      "cell_type": "code",
      "metadata": {
        "id": "sFwRSqYFhKmf",
        "colab_type": "code",
        "colab": {}
      },
      "source": [
        "# Does the order of first 2 words matter?\n",
        "# How to find the predicted word from the predicted word embedding?\n",
        "# How to find the closest word from the predicted word embedding?\n",
        "# What is sim1 and sim2 ..?\n",
        "# to determine closest, we should use mod of the value"
      ],
      "execution_count": 0,
      "outputs": []
    }
  ]
}